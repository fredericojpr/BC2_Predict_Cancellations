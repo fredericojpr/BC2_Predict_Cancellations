{
 "cells": [
  {
   "cell_type": "markdown",
   "metadata": {},
   "source": [
    "# Group S\n",
    " \n",
    "- António Carvalho - m20200642 \n",
    "- Frederico Rodrigues - m20200583 \n",
    "- Gonçalo Carvalho - m20200664 \n",
    "- Manuel Borges - "
   ]
  },
  {
   "cell_type": "code",
   "execution_count": 4,
   "metadata": {
    "scrolled": true
   },
   "outputs": [
    {
     "name": "stdout",
     "output_type": "stream",
     "text": [
      "Requirement already satisfied: xgboost in c:\\users\\antonio\\anaconda3\\envs\\classdatamining\\lib\\site-packages (0.90)\n",
      "Requirement already satisfied: numpy in c:\\users\\antonio\\anaconda3\\envs\\classdatamining\\lib\\site-packages (from xgboost) (1.19.2)\n",
      "Requirement already satisfied: scipy in c:\\users\\antonio\\anaconda3\\envs\\classdatamining\\lib\\site-packages (from xgboost) (1.5.2)\n",
      "Note: you may need to restart the kernel to use updated packages.\n"
     ]
    },
    {
     "name": "stderr",
     "output_type": "stream",
     "text": [
      "WARNING: You are using pip version 20.2.4; however, version 21.0.1 is available.\n",
      "You should consider upgrading via the 'C:\\Users\\Antonio\\Anaconda3\\envs\\classdatamining\\python.exe -m pip install --upgrade pip' command.\n"
     ]
    }
   ],
   "source": [
    "pip install xgboost"
   ]
  },
  {
   "cell_type": "code",
   "execution_count": 2,
   "metadata": {},
   "outputs": [
    {
     "name": "stdout",
     "output_type": "stream",
     "text": [
      "Collecting scikit-plot\n",
      "  Downloading scikit_plot-0.3.7-py3-none-any.whl (33 kB)\n",
      "Requirement already satisfied: scikit-learn>=0.18 in c:\\users\\antonio\\anaconda3\\envs\\classdatamining\\lib\\site-packages (from scikit-plot) (0.23.2)\n",
      "Requirement already satisfied: scipy>=0.9 in c:\\users\\antonio\\anaconda3\\envs\\classdatamining\\lib\\site-packages (from scikit-plot) (1.5.2)\n",
      "Requirement already satisfied: joblib>=0.10 in c:\\users\\antonio\\anaconda3\\envs\\classdatamining\\lib\\site-packages (from scikit-plot) (1.0.0)\n",
      "Requirement already satisfied: matplotlib>=1.4.0 in c:\\users\\antonio\\anaconda3\\envs\\classdatamining\\lib\\site-packages (from scikit-plot) (3.3.2)\n",
      "Requirement already satisfied: numpy>=1.13.3 in c:\\users\\antonio\\anaconda3\\envs\\classdatamining\\lib\\site-packages (from scikit-learn>=0.18->scikit-plot) (1.19.2)\n",
      "Requirement already satisfied: threadpoolctl>=2.0.0 in c:\\users\\antonio\\anaconda3\\envs\\classdatamining\\lib\\site-packages (from scikit-learn>=0.18->scikit-plot) (2.1.0)\n",
      "Requirement already satisfied: python-dateutil>=2.1 in c:\\users\\antonio\\anaconda3\\envs\\classdatamining\\lib\\site-packages (from matplotlib>=1.4.0->scikit-plot) (2.8.1)\n",
      "Requirement already satisfied: certifi>=2020.06.20 in c:\\users\\antonio\\anaconda3\\envs\\classdatamining\\lib\\site-packages (from matplotlib>=1.4.0->scikit-plot) (2020.12.5)\n",
      "Requirement already satisfied: kiwisolver>=1.0.1 in c:\\users\\antonio\\anaconda3\\envs\\classdatamining\\lib\\site-packages (from matplotlib>=1.4.0->scikit-plot) (1.3.0)\n",
      "Requirement already satisfied: pillow>=6.2.0 in c:\\users\\antonio\\anaconda3\\envs\\classdatamining\\lib\\site-packages (from matplotlib>=1.4.0->scikit-plot) (8.1.0)\n",
      "Requirement already satisfied: cycler>=0.10 in c:\\users\\antonio\\anaconda3\\envs\\classdatamining\\lib\\site-packages (from matplotlib>=1.4.0->scikit-plot) (0.10.0)\n",
      "Requirement already satisfied: pyparsing!=2.0.4,!=2.1.2,!=2.1.6,>=2.0.3 in c:\\users\\antonio\\anaconda3\\envs\\classdatamining\\lib\\site-packages (from matplotlib>=1.4.0->scikit-plot) (2.4.7)\n",
      "Requirement already satisfied: six>=1.5 in c:\\users\\antonio\\anaconda3\\envs\\classdatamining\\lib\\site-packages (from python-dateutil>=2.1->matplotlib>=1.4.0->scikit-plot) (1.15.0)\n",
      "Installing collected packages: scikit-plot\n",
      "Successfully installed scikit-plot-0.3.7\n",
      "Note: you may need to restart the kernel to use updated packages.\n"
     ]
    },
    {
     "name": "stderr",
     "output_type": "stream",
     "text": [
      "WARNING: You are using pip version 20.2.4; however, version 21.0.1 is available.\n",
      "You should consider upgrading via the 'C:\\Users\\Antonio\\Anaconda3\\envs\\classdatamining\\python.exe -m pip install --upgrade pip' command.\n"
     ]
    }
   ],
   "source": [
    "pip install scikit-plot"
   ]
  },
  {
   "cell_type": "code",
   "execution_count": 23,
   "metadata": {
    "scrolled": false
   },
   "outputs": [],
   "source": [
    "import pandas as pd\n",
    "import numpy as np\n",
    "\n",
    "from sklearn.pipeline import Pipeline\n",
    "from sklearn.model_selection import train_test_split, KFold, cross_validate, cross_val_score\n",
    "from sklearn.ensemble import RandomForestClassifier\n",
    "from xgboost import XGBClassifier\n",
    "from sklearn.linear_model import LogisticRegression\n",
    "from sklearn.tree import DecisionTreeClassifier\n",
    "from sklearn.neural_network import MLPClassifier\n",
    "from sklearn.svm import SVC, LinearSVC, NuSVC\n",
    "from sklearn.metrics import accuracy_score\n",
    "from sklearn.metrics import roc_curve, auc\n",
    "from scikitplot.metrics import plot_cumulative_gain, plot_lift_curve\n",
    "import matplotlib.pyplot as plt\n",
    "from sklearn.metrics import classification_report, confusion_matrix, precision_score\n"
   ]
  },
  {
   "cell_type": "code",
   "execution_count": 4,
   "metadata": {},
   "outputs": [
    {
     "data": {
      "text/html": [
       "<div>\n",
       "<style scoped>\n",
       "    .dataframe tbody tr th:only-of-type {\n",
       "        vertical-align: middle;\n",
       "    }\n",
       "\n",
       "    .dataframe tbody tr th {\n",
       "        vertical-align: top;\n",
       "    }\n",
       "\n",
       "    .dataframe thead th {\n",
       "        text-align: right;\n",
       "    }\n",
       "</style>\n",
       "<table border=\"1\" class=\"dataframe\">\n",
       "  <thead>\n",
       "    <tr style=\"text-align: right;\">\n",
       "      <th></th>\n",
       "      <th>LeadTime</th>\n",
       "      <th>ArrivalDateDayOfMonth</th>\n",
       "      <th>StaysInWeekendNights</th>\n",
       "      <th>StaysInWeekNights</th>\n",
       "      <th>Adults</th>\n",
       "      <th>Children</th>\n",
       "      <th>Babies</th>\n",
       "      <th>PreviousCancellations</th>\n",
       "      <th>PreviousBookingsNotCanceled</th>\n",
       "      <th>BookingChanges</th>\n",
       "      <th>...</th>\n",
       "      <th>x10_        484</th>\n",
       "      <th>x10_        495</th>\n",
       "      <th>x10_        509</th>\n",
       "      <th>x10_       0</th>\n",
       "      <th>x11_Group</th>\n",
       "      <th>x11_Transient</th>\n",
       "      <th>x11_Transient-Party</th>\n",
       "      <th>x12_1</th>\n",
       "      <th>x12_2</th>\n",
       "      <th>x12_3</th>\n",
       "    </tr>\n",
       "  </thead>\n",
       "  <tbody>\n",
       "    <tr>\n",
       "      <th>0</th>\n",
       "      <td>6</td>\n",
       "      <td>1</td>\n",
       "      <td>0</td>\n",
       "      <td>2</td>\n",
       "      <td>1</td>\n",
       "      <td>0.0</td>\n",
       "      <td>0</td>\n",
       "      <td>0</td>\n",
       "      <td>0</td>\n",
       "      <td>0</td>\n",
       "      <td>...</td>\n",
       "      <td>0.0</td>\n",
       "      <td>0.0</td>\n",
       "      <td>0.0</td>\n",
       "      <td>0.0</td>\n",
       "      <td>0.0</td>\n",
       "      <td>1.0</td>\n",
       "      <td>0.0</td>\n",
       "      <td>0.0</td>\n",
       "      <td>0.0</td>\n",
       "      <td>0.0</td>\n",
       "    </tr>\n",
       "    <tr>\n",
       "      <th>1</th>\n",
       "      <td>88</td>\n",
       "      <td>1</td>\n",
       "      <td>0</td>\n",
       "      <td>4</td>\n",
       "      <td>2</td>\n",
       "      <td>0.0</td>\n",
       "      <td>0</td>\n",
       "      <td>0</td>\n",
       "      <td>0</td>\n",
       "      <td>0</td>\n",
       "      <td>...</td>\n",
       "      <td>0.0</td>\n",
       "      <td>0.0</td>\n",
       "      <td>0.0</td>\n",
       "      <td>0.0</td>\n",
       "      <td>0.0</td>\n",
       "      <td>1.0</td>\n",
       "      <td>0.0</td>\n",
       "      <td>0.0</td>\n",
       "      <td>0.0</td>\n",
       "      <td>0.0</td>\n",
       "    </tr>\n",
       "    <tr>\n",
       "      <th>2</th>\n",
       "      <td>65</td>\n",
       "      <td>1</td>\n",
       "      <td>0</td>\n",
       "      <td>4</td>\n",
       "      <td>1</td>\n",
       "      <td>0.0</td>\n",
       "      <td>0</td>\n",
       "      <td>0</td>\n",
       "      <td>0</td>\n",
       "      <td>0</td>\n",
       "      <td>...</td>\n",
       "      <td>0.0</td>\n",
       "      <td>0.0</td>\n",
       "      <td>0.0</td>\n",
       "      <td>0.0</td>\n",
       "      <td>0.0</td>\n",
       "      <td>1.0</td>\n",
       "      <td>0.0</td>\n",
       "      <td>0.0</td>\n",
       "      <td>0.0</td>\n",
       "      <td>0.0</td>\n",
       "    </tr>\n",
       "    <tr>\n",
       "      <th>3</th>\n",
       "      <td>92</td>\n",
       "      <td>1</td>\n",
       "      <td>2</td>\n",
       "      <td>4</td>\n",
       "      <td>2</td>\n",
       "      <td>0.0</td>\n",
       "      <td>0</td>\n",
       "      <td>0</td>\n",
       "      <td>0</td>\n",
       "      <td>0</td>\n",
       "      <td>...</td>\n",
       "      <td>0.0</td>\n",
       "      <td>0.0</td>\n",
       "      <td>0.0</td>\n",
       "      <td>0.0</td>\n",
       "      <td>0.0</td>\n",
       "      <td>1.0</td>\n",
       "      <td>0.0</td>\n",
       "      <td>0.0</td>\n",
       "      <td>0.0</td>\n",
       "      <td>0.0</td>\n",
       "    </tr>\n",
       "    <tr>\n",
       "      <th>4</th>\n",
       "      <td>100</td>\n",
       "      <td>2</td>\n",
       "      <td>0</td>\n",
       "      <td>2</td>\n",
       "      <td>2</td>\n",
       "      <td>0.0</td>\n",
       "      <td>0</td>\n",
       "      <td>0</td>\n",
       "      <td>0</td>\n",
       "      <td>0</td>\n",
       "      <td>...</td>\n",
       "      <td>0.0</td>\n",
       "      <td>0.0</td>\n",
       "      <td>0.0</td>\n",
       "      <td>0.0</td>\n",
       "      <td>0.0</td>\n",
       "      <td>1.0</td>\n",
       "      <td>0.0</td>\n",
       "      <td>0.0</td>\n",
       "      <td>0.0</td>\n",
       "      <td>0.0</td>\n",
       "    </tr>\n",
       "    <tr>\n",
       "      <th>...</th>\n",
       "      <td>...</td>\n",
       "      <td>...</td>\n",
       "      <td>...</td>\n",
       "      <td>...</td>\n",
       "      <td>...</td>\n",
       "      <td>...</td>\n",
       "      <td>...</td>\n",
       "      <td>...</td>\n",
       "      <td>...</td>\n",
       "      <td>...</td>\n",
       "      <td>...</td>\n",
       "      <td>...</td>\n",
       "      <td>...</td>\n",
       "      <td>...</td>\n",
       "      <td>...</td>\n",
       "      <td>...</td>\n",
       "      <td>...</td>\n",
       "      <td>...</td>\n",
       "      <td>...</td>\n",
       "      <td>...</td>\n",
       "      <td>...</td>\n",
       "    </tr>\n",
       "    <tr>\n",
       "      <th>79325</th>\n",
       "      <td>23</td>\n",
       "      <td>30</td>\n",
       "      <td>2</td>\n",
       "      <td>5</td>\n",
       "      <td>2</td>\n",
       "      <td>0.0</td>\n",
       "      <td>0</td>\n",
       "      <td>0</td>\n",
       "      <td>0</td>\n",
       "      <td>0</td>\n",
       "      <td>...</td>\n",
       "      <td>0.0</td>\n",
       "      <td>0.0</td>\n",
       "      <td>0.0</td>\n",
       "      <td>0.0</td>\n",
       "      <td>0.0</td>\n",
       "      <td>1.0</td>\n",
       "      <td>0.0</td>\n",
       "      <td>0.0</td>\n",
       "      <td>0.0</td>\n",
       "      <td>0.0</td>\n",
       "    </tr>\n",
       "    <tr>\n",
       "      <th>79326</th>\n",
       "      <td>102</td>\n",
       "      <td>31</td>\n",
       "      <td>2</td>\n",
       "      <td>5</td>\n",
       "      <td>3</td>\n",
       "      <td>0.0</td>\n",
       "      <td>0</td>\n",
       "      <td>0</td>\n",
       "      <td>0</td>\n",
       "      <td>0</td>\n",
       "      <td>...</td>\n",
       "      <td>0.0</td>\n",
       "      <td>0.0</td>\n",
       "      <td>0.0</td>\n",
       "      <td>0.0</td>\n",
       "      <td>0.0</td>\n",
       "      <td>1.0</td>\n",
       "      <td>0.0</td>\n",
       "      <td>0.0</td>\n",
       "      <td>0.0</td>\n",
       "      <td>0.0</td>\n",
       "    </tr>\n",
       "    <tr>\n",
       "      <th>79327</th>\n",
       "      <td>34</td>\n",
       "      <td>31</td>\n",
       "      <td>2</td>\n",
       "      <td>5</td>\n",
       "      <td>2</td>\n",
       "      <td>0.0</td>\n",
       "      <td>0</td>\n",
       "      <td>0</td>\n",
       "      <td>0</td>\n",
       "      <td>0</td>\n",
       "      <td>...</td>\n",
       "      <td>0.0</td>\n",
       "      <td>0.0</td>\n",
       "      <td>0.0</td>\n",
       "      <td>0.0</td>\n",
       "      <td>0.0</td>\n",
       "      <td>1.0</td>\n",
       "      <td>0.0</td>\n",
       "      <td>0.0</td>\n",
       "      <td>0.0</td>\n",
       "      <td>0.0</td>\n",
       "    </tr>\n",
       "    <tr>\n",
       "      <th>79328</th>\n",
       "      <td>109</td>\n",
       "      <td>31</td>\n",
       "      <td>2</td>\n",
       "      <td>5</td>\n",
       "      <td>2</td>\n",
       "      <td>0.0</td>\n",
       "      <td>0</td>\n",
       "      <td>0</td>\n",
       "      <td>0</td>\n",
       "      <td>0</td>\n",
       "      <td>...</td>\n",
       "      <td>0.0</td>\n",
       "      <td>0.0</td>\n",
       "      <td>0.0</td>\n",
       "      <td>0.0</td>\n",
       "      <td>0.0</td>\n",
       "      <td>1.0</td>\n",
       "      <td>0.0</td>\n",
       "      <td>0.0</td>\n",
       "      <td>0.0</td>\n",
       "      <td>0.0</td>\n",
       "    </tr>\n",
       "    <tr>\n",
       "      <th>79329</th>\n",
       "      <td>205</td>\n",
       "      <td>29</td>\n",
       "      <td>2</td>\n",
       "      <td>7</td>\n",
       "      <td>2</td>\n",
       "      <td>0.0</td>\n",
       "      <td>0</td>\n",
       "      <td>0</td>\n",
       "      <td>0</td>\n",
       "      <td>0</td>\n",
       "      <td>...</td>\n",
       "      <td>0.0</td>\n",
       "      <td>0.0</td>\n",
       "      <td>0.0</td>\n",
       "      <td>0.0</td>\n",
       "      <td>0.0</td>\n",
       "      <td>1.0</td>\n",
       "      <td>0.0</td>\n",
       "      <td>0.0</td>\n",
       "      <td>0.0</td>\n",
       "      <td>0.0</td>\n",
       "    </tr>\n",
       "  </tbody>\n",
       "</table>\n",
       "<p>79163 rows × 540 columns</p>\n",
       "</div>"
      ],
      "text/plain": [
       "       LeadTime  ArrivalDateDayOfMonth  StaysInWeekendNights  \\\n",
       "0             6                      1                     0   \n",
       "1            88                      1                     0   \n",
       "2            65                      1                     0   \n",
       "3            92                      1                     2   \n",
       "4           100                      2                     0   \n",
       "...         ...                    ...                   ...   \n",
       "79325        23                     30                     2   \n",
       "79326       102                     31                     2   \n",
       "79327        34                     31                     2   \n",
       "79328       109                     31                     2   \n",
       "79329       205                     29                     2   \n",
       "\n",
       "       StaysInWeekNights  Adults  Children  Babies  PreviousCancellations  \\\n",
       "0                      2       1       0.0       0                      0   \n",
       "1                      4       2       0.0       0                      0   \n",
       "2                      4       1       0.0       0                      0   \n",
       "3                      4       2       0.0       0                      0   \n",
       "4                      2       2       0.0       0                      0   \n",
       "...                  ...     ...       ...     ...                    ...   \n",
       "79325                  5       2       0.0       0                      0   \n",
       "79326                  5       3       0.0       0                      0   \n",
       "79327                  5       2       0.0       0                      0   \n",
       "79328                  5       2       0.0       0                      0   \n",
       "79329                  7       2       0.0       0                      0   \n",
       "\n",
       "       PreviousBookingsNotCanceled  BookingChanges  ...  x10_        484  \\\n",
       "0                                0               0  ...              0.0   \n",
       "1                                0               0  ...              0.0   \n",
       "2                                0               0  ...              0.0   \n",
       "3                                0               0  ...              0.0   \n",
       "4                                0               0  ...              0.0   \n",
       "...                            ...             ...  ...              ...   \n",
       "79325                            0               0  ...              0.0   \n",
       "79326                            0               0  ...              0.0   \n",
       "79327                            0               0  ...              0.0   \n",
       "79328                            0               0  ...              0.0   \n",
       "79329                            0               0  ...              0.0   \n",
       "\n",
       "       x10_        495  x10_        509  x10_       0  x11_Group  \\\n",
       "0                  0.0              0.0           0.0        0.0   \n",
       "1                  0.0              0.0           0.0        0.0   \n",
       "2                  0.0              0.0           0.0        0.0   \n",
       "3                  0.0              0.0           0.0        0.0   \n",
       "4                  0.0              0.0           0.0        0.0   \n",
       "...                ...              ...           ...        ...   \n",
       "79325              0.0              0.0           0.0        0.0   \n",
       "79326              0.0              0.0           0.0        0.0   \n",
       "79327              0.0              0.0           0.0        0.0   \n",
       "79328              0.0              0.0           0.0        0.0   \n",
       "79329              0.0              0.0           0.0        0.0   \n",
       "\n",
       "       x11_Transient  x11_Transient-Party  x12_1  x12_2  x12_3  \n",
       "0                1.0                  0.0    0.0    0.0    0.0  \n",
       "1                1.0                  0.0    0.0    0.0    0.0  \n",
       "2                1.0                  0.0    0.0    0.0    0.0  \n",
       "3                1.0                  0.0    0.0    0.0    0.0  \n",
       "4                1.0                  0.0    0.0    0.0    0.0  \n",
       "...              ...                  ...    ...    ...    ...  \n",
       "79325            1.0                  0.0    0.0    0.0    0.0  \n",
       "79326            1.0                  0.0    0.0    0.0    0.0  \n",
       "79327            1.0                  0.0    0.0    0.0    0.0  \n",
       "79328            1.0                  0.0    0.0    0.0    0.0  \n",
       "79329            1.0                  0.0    0.0    0.0    0.0  \n",
       "\n",
       "[79163 rows x 540 columns]"
      ]
     },
     "execution_count": 4,
     "metadata": {},
     "output_type": "execute_result"
    }
   ],
   "source": [
    "%store -r datafe\n",
    "datafe"
   ]
  },
  {
   "cell_type": "code",
   "execution_count": 5,
   "metadata": {},
   "outputs": [],
   "source": [
    "%store -r treshold1\n",
    "%store -r treshold2\n",
    "%store -r onlyDT\n",
    "%store -r target\n",
    "\n",
    "treshold1 = treshold1.tolist()\n",
    "treshold2 = treshold2.tolist()"
   ]
  },
  {
   "cell_type": "code",
   "execution_count": 8,
   "metadata": {},
   "outputs": [],
   "source": [
    "#heavily correlated variables\n",
    "onlyDT.remove('ADRpp')\n",
    "onlyDT.remove('TotalNights')"
   ]
  },
  {
   "cell_type": "markdown",
   "metadata": {},
   "source": [
    "## Modeling"
   ]
  },
  {
   "cell_type": "code",
   "execution_count": 15,
   "metadata": {},
   "outputs": [],
   "source": [
    "X = datafe[onlyDT]\n",
    "y = target\n",
    "\n",
    "# Provisional TrainTest Split\n",
    "#X_train, X_val, y_train, y_val = train_test_split(datafe[onlyDT],target, test_size=0.25, random_state=42, stratify=target)"
   ]
  },
  {
   "cell_type": "code",
   "execution_count": 8,
   "metadata": {},
   "outputs": [],
   "source": [
    "models = [(\"LR_model\", LogisticRegression(random_state=42,n_jobs=-1)),\n",
    "        (\"DT_model\", DecisionTreeClassifier(random_state=42)),\n",
    "        (\"RF_model\", RandomForestClassifier(random_state=42,n_jobs=-1)),\n",
    "        (\"SVC:model\", SVC(kernel=\"rbf\", C=0.025, probability=True)),\n",
    "        (\"NuSVC:model\", NuSVC(probability=True)),\n",
    "        (\"MLP_model\", MLPClassifier(hidden_layer_sizes=(150,100,50), max_iter=300,activation = 'relu',random_state=1)),\n",
    "        (\"XGB_model\", XGBClassifier(random_state=42, n_jobs=-1))]\n",
    "\n",
    "#split data for cross-validation\n",
    "split = KFold(n_splits=4, shuffle=True, random_state=42)"
   ]
  },
  {
   "cell_type": "code",
   "execution_count": null,
   "metadata": {},
   "outputs": [],
   "source": [
    "for name, model in models:\n",
    "    # cross validation score for each model:\n",
    "    cv_results = cross_val_score(model, \n",
    "                                 X, y,\n",
    "                                 cv=split,\n",
    "                                 scoring=\"accuracy\",\n",
    "                                 n_jobs=-1)\n",
    "    # output:\n",
    "    min_score = round(min(cv_results), 3)\n",
    "    max_score = round(max(cv_results), 3)\n",
    "    mean_score = round(np.mean(cv_results), 3)\n",
    "    std_dev = round(np.std(cv_results), 3)\n",
    "    print(f\"{name} cross validation accuarcy score: {mean_score} +/- {std_dev} (std) min: {min_score}, max: {max_score}\")"
   ]
  },
  {
   "cell_type": "markdown",
   "metadata": {},
   "source": [
    "# Assessment"
   ]
  },
  {
   "cell_type": "markdown",
   "metadata": {},
   "source": [
    "The type of split when comparing the models cannot be used when doing the ROC  curve. Therefore, we decided to do a different split, the train-test split.\n"
   ]
  },
  {
   "cell_type": "code",
   "execution_count": 6,
   "metadata": {},
   "outputs": [],
   "source": [
    "# Provisional TrainTest Split\n",
    "X_train, X_val, y_train, y_val = train_test_split(datafe[onlyDT],target, test_size=0.25, random_state=42, stratify=target)"
   ]
  },
  {
   "cell_type": "code",
   "execution_count": 19,
   "metadata": {},
   "outputs": [
    {
     "data": {
      "text/plain": [
       "array([0.85521795, 0.85515058, 0.85885603, 0.85656538])"
      ]
     },
     "execution_count": 19,
     "metadata": {},
     "output_type": "execute_result"
    }
   ],
   "source": [
    "rf_plus = RandomForestClassifier(random_state=42,n_jobs=-1)\n",
    "\n",
    "rf_plus.fit(X_train, y_train)\n",
    "y_val_pred=rf_plus.predict(X_val)\n",
    "y_train_pred=rf_plus.predict(X_train)\n",
    "cross_val_score(rf_plus,X_train,y_train,cv=split,scoring=\"accuracy\",n_jobs=-1)"
   ]
  },
  {
   "cell_type": "code",
   "execution_count": 17,
   "metadata": {
    "scrolled": true
   },
   "outputs": [
    {
     "name": "stdout",
     "output_type": "stream",
     "text": [
      "              precision    recall  f1-score   support\n",
      "\n",
      "           0       0.86      0.91      0.88     11521\n",
      "           1       0.87      0.79      0.83      8270\n",
      "\n",
      "    accuracy                           0.86     19791\n",
      "   macro avg       0.86      0.85      0.86     19791\n",
      "weighted avg       0.86      0.86      0.86     19791\n",
      "\n"
     ]
    }
   ],
   "source": [
    "# Test set classification report\n",
    "print(classification_report(y_val, y_val_pred))"
   ]
  },
  {
   "cell_type": "code",
   "execution_count": 18,
   "metadata": {
    "scrolled": true
   },
   "outputs": [
    {
     "data": {
      "text/html": [
       "<div>\n",
       "<style scoped>\n",
       "    .dataframe tbody tr th:only-of-type {\n",
       "        vertical-align: middle;\n",
       "    }\n",
       "\n",
       "    .dataframe tbody tr th {\n",
       "        vertical-align: top;\n",
       "    }\n",
       "\n",
       "    .dataframe thead th {\n",
       "        text-align: right;\n",
       "    }\n",
       "</style>\n",
       "<table border=\"1\" class=\"dataframe\">\n",
       "  <thead>\n",
       "    <tr style=\"text-align: right;\">\n",
       "      <th>Pred</th>\n",
       "      <th>1</th>\n",
       "      <th>0</th>\n",
       "    </tr>\n",
       "    <tr>\n",
       "      <th>True</th>\n",
       "      <th></th>\n",
       "      <th></th>\n",
       "    </tr>\n",
       "  </thead>\n",
       "  <tbody>\n",
       "    <tr>\n",
       "      <th>1</th>\n",
       "      <td>10524</td>\n",
       "      <td>997</td>\n",
       "    </tr>\n",
       "    <tr>\n",
       "      <th>0</th>\n",
       "      <td>1753</td>\n",
       "      <td>6517</td>\n",
       "    </tr>\n",
       "  </tbody>\n",
       "</table>\n",
       "</div>"
      ],
      "text/plain": [
       "Pred      1     0\n",
       "True             \n",
       "1     10524   997\n",
       "0      1753  6517"
      ]
     },
     "execution_count": 18,
     "metadata": {},
     "output_type": "execute_result"
    }
   ],
   "source": [
    "# Test set confusion matrix\n",
    "pd.DataFrame(data=confusion_matrix(y_val, y_val_pred), \n",
    "             index=pd.Index(y_train.unique(), name=\"True\"), \n",
    "             columns=pd.Index(y_train.unique(), name=\"Pred\"))"
   ]
  },
  {
   "cell_type": "markdown",
   "metadata": {},
   "source": [
    "Even though this gives us a different cross-validation score, the team decided to keep the RF model "
   ]
  },
  {
   "cell_type": "code",
   "execution_count": 12,
   "metadata": {
    "scrolled": false
   },
   "outputs": [
    {
     "data": {
      "image/png": "[encoded data removed]",
      "text/plain": [
       "<Figure size 1224x648 with 2 Axes>"
      ]
     },
     "metadata": {
      "needs_background": "light"
     },
     "output_type": "display_data"
    }
   ],
   "source": [
    "# Plot lift curves\n",
    "predicted_probas = rf_plus.predict_proba(X_val)\n",
    "\n",
    "# figure\n",
    "fig, (ax1, ax2) = plt.subplots(1, 2, figsize=(17, 9))\n",
    "plot_cumulative_gain(y_val, predicted_probas, ax=ax1)\n",
    "plot_lift_curve(y_val, predicted_probas, ax=ax2)  # Lift is a measure of the effectiveness of a predictive model\n",
    "                                                   # calculated as the ratio between the results obtained with and \n",
    "                                                   # without the predictive model.\n",
    "# properties\n",
    "ax2.set_xlim(0.05, 1)\n",
    "ax2.set_xticks([0.05, 0.2, 0.4, 0.6, 0.8, 1.0])\n",
    "ax2.set_xticklabels([0.05, 0.2, 0.4, 0.6, 0.8, 1.0])\n",
    "for ax in (ax1, ax2):\n",
    "    ax.axes.lines[0].remove()\n",
    "    ax.get_legend().remove()\n",
    "    ax.legend()\n",
    "\n",
    "plt.show()\n"
   ]
  },
  {
   "cell_type": "code",
   "execution_count": null,
   "metadata": {},
   "outputs": [],
   "source": []
  }
 ],
 "metadata": {
  "kernelspec": {
   "display_name": "Python 3",
   "language": "python",
   "name": "python3"
  },
  "language_info": {
   "codemirror_mode": {
    "name": "ipython",
    "version": 3
   },
   "file_extension": ".py",
   "mimetype": "text/x-python",
   "name": "python",
   "nbconvert_exporter": "python",
   "pygments_lexer": "ipython3",
   "version": "3.7.9"
  }
 },
 "nbformat": 4,
 "nbformat_minor": 4
}
