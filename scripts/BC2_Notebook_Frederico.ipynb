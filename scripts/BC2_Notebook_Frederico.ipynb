{
 "cells": [
  {
   "cell_type": "code",
   "execution_count": 1,
   "metadata": {},
   "outputs": [],
   "source": [
    "import pandas as pd\n",
    "import numpy as np\n",
    "\n",
    "import seaborn as sns\n",
    "import matplotlib.pyplot as plt\n",
    "import calplot\n",
    "\n",
    "from sklearn.linear_model import LassoCV, RidgeCV, LogisticRegression, LinearRegression\n",
    "from sklearn.feature_selection import RFE\n",
    "from sklearn.preprocessing import MinMaxScaler, StandardScaler, OneHotEncoder, RobustScaler, LabelEncoder\n",
    "from sklearn.tree import DecisionTreeClassifier\n",
    "\n",
    "import warnings\n",
    "warnings.filterwarnings('ignore')"
   ]
  },
  {
   "cell_type": "code",
   "execution_count": 2,
   "metadata": {
    "scrolled": true
   },
   "outputs": [
    {
     "data": {
      "text/html": [
       "<div>\n",
       "<style scoped>\n",
       "    .dataframe tbody tr th:only-of-type {\n",
       "        vertical-align: middle;\n",
       "    }\n",
       "\n",
       "    .dataframe tbody tr th {\n",
       "        vertical-align: top;\n",
       "    }\n",
       "\n",
       "    .dataframe thead th {\n",
       "        text-align: right;\n",
       "    }\n",
       "</style>\n",
       "<table border=\"1\" class=\"dataframe\">\n",
       "  <thead>\n",
       "    <tr style=\"text-align: right;\">\n",
       "      <th></th>\n",
       "      <th>IsCanceled</th>\n",
       "      <th>LeadTime</th>\n",
       "      <th>ArrivalDateYear</th>\n",
       "      <th>ArrivalDateMonth</th>\n",
       "      <th>ArrivalDateWeekNumber</th>\n",
       "      <th>ArrivalDateDayOfMonth</th>\n",
       "      <th>StaysInWeekendNights</th>\n",
       "      <th>StaysInWeekNights</th>\n",
       "      <th>Adults</th>\n",
       "      <th>Children</th>\n",
       "      <th>...</th>\n",
       "      <th>DepositType</th>\n",
       "      <th>Agent</th>\n",
       "      <th>Company</th>\n",
       "      <th>DaysInWaitingList</th>\n",
       "      <th>CustomerType</th>\n",
       "      <th>ADR</th>\n",
       "      <th>RequiredCarParkingSpaces</th>\n",
       "      <th>TotalOfSpecialRequests</th>\n",
       "      <th>ReservationStatus</th>\n",
       "      <th>ReservationStatusDate</th>\n",
       "    </tr>\n",
       "  </thead>\n",
       "  <tbody>\n",
       "    <tr>\n",
       "      <th>0</th>\n",
       "      <td>0</td>\n",
       "      <td>6</td>\n",
       "      <td>2015</td>\n",
       "      <td>July</td>\n",
       "      <td>27</td>\n",
       "      <td>1</td>\n",
       "      <td>0</td>\n",
       "      <td>2</td>\n",
       "      <td>1</td>\n",
       "      <td>0.0</td>\n",
       "      <td>...</td>\n",
       "      <td>No Deposit</td>\n",
       "      <td>6</td>\n",
       "      <td>NULL</td>\n",
       "      <td>0</td>\n",
       "      <td>Transient</td>\n",
       "      <td>0.0</td>\n",
       "      <td>0</td>\n",
       "      <td>0</td>\n",
       "      <td>Check-Out</td>\n",
       "      <td>2015-07-03</td>\n",
       "    </tr>\n",
       "    <tr>\n",
       "      <th>1</th>\n",
       "      <td>1</td>\n",
       "      <td>88</td>\n",
       "      <td>2015</td>\n",
       "      <td>July</td>\n",
       "      <td>27</td>\n",
       "      <td>1</td>\n",
       "      <td>0</td>\n",
       "      <td>4</td>\n",
       "      <td>2</td>\n",
       "      <td>0.0</td>\n",
       "      <td>...</td>\n",
       "      <td>No Deposit</td>\n",
       "      <td>9</td>\n",
       "      <td>NULL</td>\n",
       "      <td>0</td>\n",
       "      <td>Transient</td>\n",
       "      <td>76.5</td>\n",
       "      <td>0</td>\n",
       "      <td>1</td>\n",
       "      <td>Canceled</td>\n",
       "      <td>2015-07-01</td>\n",
       "    </tr>\n",
       "    <tr>\n",
       "      <th>2</th>\n",
       "      <td>1</td>\n",
       "      <td>65</td>\n",
       "      <td>2015</td>\n",
       "      <td>July</td>\n",
       "      <td>27</td>\n",
       "      <td>1</td>\n",
       "      <td>0</td>\n",
       "      <td>4</td>\n",
       "      <td>1</td>\n",
       "      <td>0.0</td>\n",
       "      <td>...</td>\n",
       "      <td>No Deposit</td>\n",
       "      <td>9</td>\n",
       "      <td>NULL</td>\n",
       "      <td>0</td>\n",
       "      <td>Transient</td>\n",
       "      <td>68.0</td>\n",
       "      <td>0</td>\n",
       "      <td>1</td>\n",
       "      <td>Canceled</td>\n",
       "      <td>2015-04-30</td>\n",
       "    </tr>\n",
       "    <tr>\n",
       "      <th>3</th>\n",
       "      <td>1</td>\n",
       "      <td>92</td>\n",
       "      <td>2015</td>\n",
       "      <td>July</td>\n",
       "      <td>27</td>\n",
       "      <td>1</td>\n",
       "      <td>2</td>\n",
       "      <td>4</td>\n",
       "      <td>2</td>\n",
       "      <td>0.0</td>\n",
       "      <td>...</td>\n",
       "      <td>No Deposit</td>\n",
       "      <td>9</td>\n",
       "      <td>NULL</td>\n",
       "      <td>0</td>\n",
       "      <td>Transient</td>\n",
       "      <td>76.5</td>\n",
       "      <td>0</td>\n",
       "      <td>2</td>\n",
       "      <td>Canceled</td>\n",
       "      <td>2015-06-23</td>\n",
       "    </tr>\n",
       "    <tr>\n",
       "      <th>4</th>\n",
       "      <td>1</td>\n",
       "      <td>100</td>\n",
       "      <td>2015</td>\n",
       "      <td>July</td>\n",
       "      <td>27</td>\n",
       "      <td>2</td>\n",
       "      <td>0</td>\n",
       "      <td>2</td>\n",
       "      <td>2</td>\n",
       "      <td>0.0</td>\n",
       "      <td>...</td>\n",
       "      <td>No Deposit</td>\n",
       "      <td>9</td>\n",
       "      <td>NULL</td>\n",
       "      <td>0</td>\n",
       "      <td>Transient</td>\n",
       "      <td>76.5</td>\n",
       "      <td>0</td>\n",
       "      <td>1</td>\n",
       "      <td>Canceled</td>\n",
       "      <td>2015-04-02</td>\n",
       "    </tr>\n",
       "  </tbody>\n",
       "</table>\n",
       "<p>5 rows × 31 columns</p>\n",
       "</div>"
      ],
      "text/plain": [
       "   IsCanceled  LeadTime  ArrivalDateYear ArrivalDateMonth  \\\n",
       "0           0         6             2015             July   \n",
       "1           1        88             2015             July   \n",
       "2           1        65             2015             July   \n",
       "3           1        92             2015             July   \n",
       "4           1       100             2015             July   \n",
       "\n",
       "   ArrivalDateWeekNumber  ArrivalDateDayOfMonth  StaysInWeekendNights  \\\n",
       "0                     27                      1                     0   \n",
       "1                     27                      1                     0   \n",
       "2                     27                      1                     0   \n",
       "3                     27                      1                     2   \n",
       "4                     27                      2                     0   \n",
       "\n",
       "   StaysInWeekNights  Adults  Children  ...      DepositType        Agent  \\\n",
       "0                  2       1       0.0  ...  No Deposit                 6   \n",
       "1                  4       2       0.0  ...  No Deposit                 9   \n",
       "2                  4       1       0.0  ...  No Deposit                 9   \n",
       "3                  4       2       0.0  ...  No Deposit                 9   \n",
       "4                  2       2       0.0  ...  No Deposit                 9   \n",
       "\n",
       "       Company DaysInWaitingList CustomerType   ADR  RequiredCarParkingSpaces  \\\n",
       "0         NULL                 0    Transient   0.0                         0   \n",
       "1         NULL                 0    Transient  76.5                         0   \n",
       "2         NULL                 0    Transient  68.0                         0   \n",
       "3         NULL                 0    Transient  76.5                         0   \n",
       "4         NULL                 0    Transient  76.5                         0   \n",
       "\n",
       "   TotalOfSpecialRequests ReservationStatus ReservationStatusDate  \n",
       "0                       0         Check-Out            2015-07-03  \n",
       "1                       1          Canceled            2015-07-01  \n",
       "2                       1          Canceled            2015-04-30  \n",
       "3                       2          Canceled            2015-06-23  \n",
       "4                       1          Canceled            2015-04-02  \n",
       "\n",
       "[5 rows x 31 columns]"
      ]
     },
     "execution_count": 2,
     "metadata": {},
     "output_type": "execute_result"
    }
   ],
   "source": [
    "#loading the H2 data\n",
    "\n",
    "data = pd.read_csv(r'C:\\Users\\frede\\Documents\\GitHub\\BC2_Predict_Cancellations\\data\\H2.csv') \n",
    "data.head()"
   ]
  },
  {
   "cell_type": "code",
   "execution_count": 3,
   "metadata": {
    "scrolled": true
   },
   "outputs": [
    {
     "name": "stdout",
     "output_type": "stream",
     "text": [
      "<class 'pandas.core.frame.DataFrame'>\n",
      "RangeIndex: 79330 entries, 0 to 79329\n",
      "Data columns (total 31 columns):\n",
      " #   Column                       Non-Null Count  Dtype  \n",
      "---  ------                       --------------  -----  \n",
      " 0   IsCanceled                   79330 non-null  int64  \n",
      " 1   LeadTime                     79330 non-null  int64  \n",
      " 2   ArrivalDateYear              79330 non-null  int64  \n",
      " 3   ArrivalDateMonth             79330 non-null  object \n",
      " 4   ArrivalDateWeekNumber        79330 non-null  int64  \n",
      " 5   ArrivalDateDayOfMonth        79330 non-null  int64  \n",
      " 6   StaysInWeekendNights         79330 non-null  int64  \n",
      " 7   StaysInWeekNights            79330 non-null  int64  \n",
      " 8   Adults                       79330 non-null  int64  \n",
      " 9   Children                     79326 non-null  float64\n",
      " 10  Babies                       79330 non-null  int64  \n",
      " 11  Meal                         79330 non-null  object \n",
      " 12  Country                      79306 non-null  object \n",
      " 13  MarketSegment                79330 non-null  object \n",
      " 14  DistributionChannel          79330 non-null  object \n",
      " 15  IsRepeatedGuest              79330 non-null  int64  \n",
      " 16  PreviousCancellations        79330 non-null  int64  \n",
      " 17  PreviousBookingsNotCanceled  79330 non-null  int64  \n",
      " 18  ReservedRoomType             79330 non-null  object \n",
      " 19  AssignedRoomType             79330 non-null  object \n",
      " 20  BookingChanges               79330 non-null  int64  \n",
      " 21  DepositType                  79330 non-null  object \n",
      " 22  Agent                        79330 non-null  object \n",
      " 23  Company                      79330 non-null  object \n",
      " 24  DaysInWaitingList            79330 non-null  int64  \n",
      " 25  CustomerType                 79330 non-null  object \n",
      " 26  ADR                          79330 non-null  float64\n",
      " 27  RequiredCarParkingSpaces     79330 non-null  int64  \n",
      " 28  TotalOfSpecialRequests       79330 non-null  int64  \n",
      " 29  ReservationStatus            79330 non-null  object \n",
      " 30  ReservationStatusDate        79330 non-null  object \n",
      "dtypes: float64(2), int64(16), object(13)\n",
      "memory usage: 18.8+ MB\n"
     ]
    }
   ],
   "source": [
    "data.info()"
   ]
  },
  {
   "cell_type": "markdown",
   "metadata": {},
   "source": [
    "## a) EDA"
   ]
  },
  {
   "cell_type": "code",
   "execution_count": 4,
   "metadata": {},
   "outputs": [
    {
     "data": {
      "text/plain": [
       "ArrivalDateYear\n",
       "2015    13682\n",
       "2016    38140\n",
       "2017    27508\n",
       "dtype: int64"
      ]
     },
     "execution_count": 4,
     "metadata": {},
     "output_type": "execute_result"
    }
   ],
   "source": [
    "data.groupby('ArrivalDateYear').size()"
   ]
  },
  {
   "cell_type": "code",
   "execution_count": 5,
   "metadata": {},
   "outputs": [
    {
     "data": {
      "text/plain": [
       "ArrivalDateMonth\n",
       "August       8983\n",
       "May          8232\n",
       "July         8088\n",
       "June         7894\n",
       "October      7605\n",
       "April        7480\n",
       "September    7400\n",
       "March        6458\n",
       "February     4965\n",
       "November     4357\n",
       "December     4132\n",
       "January      3736\n",
       "dtype: int64"
      ]
     },
     "execution_count": 5,
     "metadata": {},
     "output_type": "execute_result"
    }
   ],
   "source": [
    "data.groupby('ArrivalDateMonth').size().sort_values(ascending=False)"
   ]
  },
  {
   "cell_type": "code",
   "execution_count": 6,
   "metadata": {},
   "outputs": [],
   "source": [
    "non_metric_features = data[['CustomerType','DepositType','Meal','ReservationStatus']]"
   ]
  },
  {
   "cell_type": "markdown",
   "metadata": {},
   "source": [
    "\"Bookings with no assigned people can happen due to expenses in other hotel services like spa and restaurant\" \n",
    "#### Coherence check"
   ]
  },
  {
   "cell_type": "code",
   "execution_count": 7,
   "metadata": {},
   "outputs": [],
   "source": [
    "#the reserevations without guests will be separated\n",
    "no_guests = list(data.loc[data[\"Adults\"]\n",
    "                   + data[\"Children\"]\n",
    "                   + data[\"Babies\"]==0].index)\n",
    "data.drop(data.index[no_guests], inplace=True)"
   ]
  },
  {
   "cell_type": "code",
   "execution_count": 8,
   "metadata": {
    "scrolled": true
   },
   "outputs": [
    {
     "data": {
      "text/plain": [
       "['          9',\n",
       " '       NULL',\n",
       " '          1',\n",
       " '         14',\n",
       " '          7',\n",
       " '          6',\n",
       " '         28',\n",
       " '          3',\n",
       " '          8',\n",
       " '         37']"
      ]
     },
     "execution_count": 8,
     "metadata": {},
     "output_type": "execute_result"
    }
   ],
   "source": [
    "data['Agent'].value_counts()[:10].index.tolist()"
   ]
  },
  {
   "cell_type": "code",
   "execution_count": 9,
   "metadata": {},
   "outputs": [],
   "source": [
    "data['Agent'] = data['Agent'].str.replace('NULL','0')"
   ]
  },
  {
   "cell_type": "code",
   "execution_count": 10,
   "metadata": {},
   "outputs": [
    {
     "data": {
      "text/plain": [
       "IsCanceled                      0\n",
       "LeadTime                        0\n",
       "ArrivalDateYear                 0\n",
       "ArrivalDateMonth                0\n",
       "ArrivalDateWeekNumber           0\n",
       "ArrivalDateDayOfMonth           0\n",
       "StaysInWeekendNights            0\n",
       "StaysInWeekNights               0\n",
       "Adults                          0\n",
       "Children                        4\n",
       "Babies                          0\n",
       "Meal                            0\n",
       "Country                        16\n",
       "MarketSegment                   0\n",
       "DistributionChannel             0\n",
       "IsRepeatedGuest                 0\n",
       "PreviousCancellations           0\n",
       "PreviousBookingsNotCanceled     0\n",
       "ReservedRoomType                0\n",
       "AssignedRoomType                0\n",
       "BookingChanges                  0\n",
       "DepositType                     0\n",
       "Agent                           0\n",
       "Company                         0\n",
       "DaysInWaitingList               0\n",
       "CustomerType                    0\n",
       "ADR                             0\n",
       "RequiredCarParkingSpaces        0\n",
       "TotalOfSpecialRequests          0\n",
       "ReservationStatus               0\n",
       "ReservationStatusDate           0\n",
       "dtype: int64"
      ]
     },
     "execution_count": 10,
     "metadata": {},
     "output_type": "execute_result"
    }
   ],
   "source": [
    "data.isnull().sum()"
   ]
  },
  {
   "cell_type": "code",
   "execution_count": 11,
   "metadata": {},
   "outputs": [],
   "source": [
    "data[['Children', 'Company']] = data[['Children','Company']].fillna(value=0)"
   ]
  },
  {
   "cell_type": "code",
   "execution_count": 12,
   "metadata": {},
   "outputs": [
    {
     "data": {
      "text/plain": [
       "Text(0.5, 1.0, 'Class Distributions \\n (0: Not Canceled || 1: Canceled)')"
      ]
     },
     "execution_count": 12,
     "metadata": {},
     "output_type": "execute_result"
    },
    {
     "data": {
      "image/png": "[encoded data removed]",
      "text/plain": [
       "<Figure size 432x288 with 1 Axes>"
      ]
     },
     "metadata": {
      "needs_background": "light"
     },
     "output_type": "display_data"
    }
   ],
   "source": [
    "colors = [\"#0101DF\", \"#DF0101\"]\n",
    "\n",
    "sns.countplot('IsCanceled', data=data, palette=colors)\n",
    "plt.title('Class Distributions \\n (0: Not Canceled || 1: Canceled)', fontsize=14)"
   ]
  },
  {
   "cell_type": "markdown",
   "metadata": {},
   "source": [
    "The previous visualization confirms that we don't have a heavily Imablanced Dataset"
   ]
  },
  {
   "cell_type": "code",
   "execution_count": 13,
   "metadata": {},
   "outputs": [
    {
     "data": {
      "text/plain": [
       "count    79163.000000\n",
       "mean       105.503191\n",
       "std         43.407605\n",
       "min          0.000000\n",
       "25%         79.200000\n",
       "50%         99.960000\n",
       "75%        126.000000\n",
       "max       5400.000000\n",
       "Name: ADR, dtype: float64"
      ]
     },
     "execution_count": 13,
     "metadata": {},
     "output_type": "execute_result"
    }
   ],
   "source": [
    "data.ADR.describe()"
   ]
  },
  {
   "cell_type": "code",
   "execution_count": 14,
   "metadata": {
    "scrolled": false
   },
   "outputs": [
    {
     "data": {
      "image/png": "[encoded data removed]",
      "text/plain": [
       "<Figure size 432x288 with 1 Axes>"
      ]
     },
     "metadata": {},
     "output_type": "display_data"
    }
   ],
   "source": [
    "sns.set(style = 'whitegrid')\n",
    "sns.violinplot(y=data[\"LeadTime\"])\n",
    "plt.title('Lead Time Frequency', fontsize = 20)\n",
    "plt.show()"
   ]
  },
  {
   "cell_type": "code",
   "execution_count": 15,
   "metadata": {
    "scrolled": true
   },
   "outputs": [
    {
     "data": {
      "image/png": "[encoded data removed]",
      "text/plain": [
       "<Figure size 432x288 with 1 Axes>"
      ]
     },
     "metadata": {},
     "output_type": "display_data"
    }
   ],
   "source": [
    "sns.set(style = \"darkgrid\")\n",
    "plt.title(\"Cancelations by repeated guests\", fontdict = {'fontsize': 20})\n",
    "ax = sns.countplot(x = \"IsCanceled\", hue = 'IsRepeatedGuest', data = data)"
   ]
  },
  {
   "cell_type": "markdown",
   "metadata": {},
   "source": [
    "Repeated guests almost never cancel their reservations"
   ]
  },
  {
   "cell_type": "code",
   "execution_count": 16,
   "metadata": {},
   "outputs": [
    {
     "data": {
      "text/plain": [
       "0          0.00\n",
       "1         76.50\n",
       "2         68.00\n",
       "3         76.50\n",
       "4         76.50\n",
       "          ...  \n",
       "79325     96.14\n",
       "79326    225.43\n",
       "79327    157.71\n",
       "79328    104.40\n",
       "79329    151.20\n",
       "Name: ADR, Length: 79163, dtype: float64"
      ]
     },
     "execution_count": 16,
     "metadata": {},
     "output_type": "execute_result"
    }
   ],
   "source": [
    "data['ADR']"
   ]
  },
  {
   "cell_type": "code",
   "execution_count": 17,
   "metadata": {},
   "outputs": [
    {
     "name": "stdout",
     "output_type": "stream",
     "text": [
      "From all non-canceled bookings, the average price is: 59.27 € per person and night.\n"
     ]
    }
   ],
   "source": [
    "data[\"ADRpp\"] = data[\"ADR\"] / (data[\"Adults\"] + data[\"Children\"])\n",
    "data[\"TotalNights\"] = data[\"StaysInWeekendNights\"] + data[\"StaysInWeekNights\"]\n",
    "not_canceled = data.loc[data['IsCanceled'] == 0]\n",
    "print('From all non-canceled bookings, the average price is:',\n",
    "      round(not_canceled.ADRpp.mean(),2), '€ per person and night.')"
   ]
  },
  {
   "cell_type": "code",
   "execution_count": 18,
   "metadata": {},
   "outputs": [
    {
     "data": {
      "image/png": "[encoded data removed]",
      "text/plain": [
       "<Figure size 432x288 with 1 Axes>"
      ]
     },
     "metadata": {},
     "output_type": "display_data"
    },
    {
     "name": "stdout",
     "output_type": "stream",
     "text": [
      "The average length of stay is : 2.9 days\n"
     ]
    }
   ],
   "source": [
    "sns.set(style = 'whitegrid')\n",
    "sns.boxplot( x=not_canceled[\"TotalNights\"], width=0.5)\n",
    "plt.title('Length of stay', fontsize = 20)\n",
    "plt.show()\n",
    "print(\"The average length of stay is :\", round(not_canceled['TotalNights'].mean(),1), \"days\")"
   ]
  },
  {
   "cell_type": "code",
   "execution_count": 19,
   "metadata": {
    "scrolled": false
   },
   "outputs": [
    {
     "name": "stderr",
     "output_type": "stream",
     "text": [
      "No handles with labels found to put in legend.\n"
     ]
    },
    {
     "data": {
      "image/png": "[encoded data removed]",
      "text/plain": [
       "<Figure size 864x576 with 1 Axes>"
      ]
     },
     "metadata": {},
     "output_type": "display_data"
    }
   ],
   "source": [
    "room_order = [\"A\",\"B\",\"C\",\"D\",\"E\",\"F\",\"G\",\"H\",\"L\"]\n",
    "\n",
    "plt.figure(figsize=(12, 8))\n",
    "sns.boxplot(x=\"ReservedRoomType\",\n",
    "            y=\"ADRpp\",\n",
    "            data= not_canceled.sort_values(\"ReservedRoomType\"), \n",
    "            palette=\"vlag\",\n",
    "            fliersize=0)\n",
    "plt.title(\"Price of room types per night and person\", fontsize=16)\n",
    "plt.xlabel(\"Room type\", fontsize=16)\n",
    "plt.ylabel(\"Price (€)\", fontsize=16)\n",
    "plt.legend(loc=\"upper right\")\n",
    "plt.ylim(0, 160)\n",
    "plt.show()"
   ]
  },
  {
   "cell_type": "code",
   "execution_count": 20,
   "metadata": {
    "scrolled": false
   },
   "outputs": [
    {
     "data": {
      "image/png": "[encoded data removed]",
      "text/plain": [
       "<Figure size 864x576 with 1 Axes>"
      ]
     },
     "metadata": {},
     "output_type": "display_data"
    }
   ],
   "source": [
    "months_order = [\"January\", \"February\", \"March\", \"April\", \"May\", \"June\", \n",
    "          \"July\", \"August\", \"September\", \"October\", \"November\", \"December\"]\n",
    "\n",
    "plt.figure(figsize=(12, 8))\n",
    "sns.lineplot(x = pd.Categorical(not_canceled[\"ArrivalDateMonth\"], categories=months_order, ordered=True),\n",
    "             y=\"ADRpp\", data=not_canceled, \n",
    "             ci=\"sd\", sizes=(2.5, 2.5))\n",
    "plt.title(\"Room price per night and person over the year\", fontsize=16)\n",
    "plt.xlabel(\"Month\", fontsize=16)\n",
    "plt.xticks(rotation=45)\n",
    "plt.ylabel(\"Price (€)\", fontsize=16)\n",
    "plt.show()"
   ]
  },
  {
   "cell_type": "code",
   "execution_count": 21,
   "metadata": {},
   "outputs": [
    {
     "data": {
      "image/png": "[encoded data removed]",
      "text/plain": [
       "<Figure size 720x576 with 2 Axes>"
      ]
     },
     "metadata": {},
     "output_type": "display_data"
    }
   ],
   "source": [
    "# Prepare figure\n",
    "fig = plt.figure(figsize=(10, 8))\n",
    "\n",
    "# Obtain correlation matrix. Round the values to 2 decimal cases. Use the DataFrame corr() and round() method.\n",
    "corr = np.round(data.corr(method=\"pearson\"), decimals=2)\n",
    "\n",
    "# Build annotation matrix (values above |0.5| will appear annotated in the plot)\n",
    "mask_annot = np.absolute(corr.values) >= 0.5\n",
    "annot = np.where(mask_annot, corr.values, np.full(corr.shape,\"\"))\n",
    "\n",
    "# Plot heatmap of the correlation matrix\n",
    "sns.heatmap(data=corr, annot=annot, cmap=sns.diverging_palette(220, 10, as_cmap=True), \n",
    "            fmt='s', vmin=-1, vmax=1, center=0, square=True, linewidths=.5)\n",
    "\n",
    "# Layout\n",
    "fig.subplots_adjust(top=0.95)\n",
    "fig.suptitle(\"Pearson Correlation Matrix\", fontsize=20)\n",
    "\n",
    "plt.show()"
   ]
  },
  {
   "cell_type": "markdown",
   "metadata": {},
   "source": [
    "### Visualize the weight of the dependent variable in categorical data"
   ]
  },
  {
   "cell_type": "code",
   "execution_count": 22,
   "metadata": {},
   "outputs": [],
   "source": [
    "def bar_charts_categorical(df, feature, target):\n",
    "    cont_tab = pd.crosstab(df[feature], df[target], margins = True)\n",
    "    categories = cont_tab.index[:-1]\n",
    "        \n",
    "    fig = plt.figure(figsize=(15, 5))\n",
    "    \n",
    "    plt.subplot(121)\n",
    "    p1 = plt.bar(categories, cont_tab.iloc[:-1, 0].values, 0.55, color=\"gray\")\n",
    "    p2 = plt.bar(categories, cont_tab.iloc[:-1, 1].values, 0.55, bottom=cont_tab.iloc[:-1, 0], color=\"yellowgreen\")\n",
    "    plt.legend((p2[0], p1[0]), ('$y_i=1$', '$y_i=0$'))\n",
    "    plt.title(\"Frequency bar chart\")\n",
    "    plt.xlabel(feature)\n",
    "    plt.ylabel(\"$Frequency$\")\n",
    "\n",
    "    # auxiliary data for 122\n",
    "    obs_pct = np.array([np.divide(cont_tab.iloc[:-1, 0].values, cont_tab.iloc[:-1, 2].values), \n",
    "                        np.divide(cont_tab.iloc[:-1, 1].values, cont_tab.iloc[:-1, 2].values)])\n",
    "      \n",
    "    plt.subplot(122)\n",
    "    p1 = plt.bar(categories, obs_pct[0], 0.55, color=\"gray\")\n",
    "    p2 = plt.bar(categories, obs_pct[1], 0.55, bottom=obs_pct[0], color=\"yellowgreen\")\n",
    "    plt.legend((p2[0], p1[0]), ('$y_i=1$', '$y_i=0$'))\n",
    "    plt.title(\"Proportion bar chart\")\n",
    "    plt.xlabel(feature)\n",
    "    plt.ylabel(\"$p$\")\n",
    "\n",
    "    plt.show()\n",
    "    \n"
   ]
  },
  {
   "cell_type": "code",
   "execution_count": 23,
   "metadata": {},
   "outputs": [
    {
     "data": {
      "image/png": "[encoded data removed]",
      "text/plain": [
       "<Figure size 1080x360 with 2 Axes>"
      ]
     },
     "metadata": {},
     "output_type": "display_data"
    },
    {
     "data": {
      "image/png": "[encoded data removed]",
      "text/plain": [
       "<Figure size 1080x360 with 2 Axes>"
      ]
     },
     "metadata": {},
     "output_type": "display_data"
    },
    {
     "data": {
      "image/png": "[encoded data removed]",
      "text/plain": [
       "<Figure size 1080x360 with 2 Axes>"
      ]
     },
     "metadata": {},
     "output_type": "display_data"
    },
    {
     "data": {
      "image/png": "[encoded data removed]",
      "text/plain": [
       "<Figure size 1080x360 with 2 Axes>"
      ]
     },
     "metadata": {},
     "output_type": "display_data"
    }
   ],
   "source": [
    "for var in non_metric_features:\n",
    "    bar_charts_categorical(data, var , \"IsCanceled\")"
   ]
  },
  {
   "cell_type": "code",
   "execution_count": 24,
   "metadata": {},
   "outputs": [],
   "source": [
    "# Try calheatmap!"
   ]
  },
  {
   "cell_type": "code",
   "execution_count": 25,
   "metadata": {},
   "outputs": [],
   "source": [
    "canceledDates = data[data['IsCanceled']==1]\n",
    "canceledDates['ReservationStatusDate'] = pd.to_datetime(canceledDates['ReservationStatusDate'])"
   ]
  },
  {
   "cell_type": "code",
   "execution_count": 26,
   "metadata": {},
   "outputs": [],
   "source": [
    "canceledDates.set_index('ReservationStatusDate', inplace=True)"
   ]
  },
  {
   "cell_type": "code",
   "execution_count": 27,
   "metadata": {},
   "outputs": [
    {
     "data": {
      "text/html": [
       "<div>\n",
       "<style scoped>\n",
       "    .dataframe tbody tr th:only-of-type {\n",
       "        vertical-align: middle;\n",
       "    }\n",
       "\n",
       "    .dataframe tbody tr th {\n",
       "        vertical-align: top;\n",
       "    }\n",
       "\n",
       "    .dataframe thead th {\n",
       "        text-align: right;\n",
       "    }\n",
       "</style>\n",
       "<table border=\"1\" class=\"dataframe\">\n",
       "  <thead>\n",
       "    <tr style=\"text-align: right;\">\n",
       "      <th></th>\n",
       "      <th>IsCanceled</th>\n",
       "      <th>LeadTime</th>\n",
       "      <th>ArrivalDateYear</th>\n",
       "      <th>ArrivalDateMonth</th>\n",
       "      <th>ArrivalDateWeekNumber</th>\n",
       "      <th>ArrivalDateDayOfMonth</th>\n",
       "      <th>StaysInWeekendNights</th>\n",
       "      <th>StaysInWeekNights</th>\n",
       "      <th>Adults</th>\n",
       "      <th>Children</th>\n",
       "      <th>...</th>\n",
       "      <th>Agent</th>\n",
       "      <th>Company</th>\n",
       "      <th>DaysInWaitingList</th>\n",
       "      <th>CustomerType</th>\n",
       "      <th>ADR</th>\n",
       "      <th>RequiredCarParkingSpaces</th>\n",
       "      <th>TotalOfSpecialRequests</th>\n",
       "      <th>ReservationStatus</th>\n",
       "      <th>ADRpp</th>\n",
       "      <th>TotalNights</th>\n",
       "    </tr>\n",
       "    <tr>\n",
       "      <th>ReservationStatusDate</th>\n",
       "      <th></th>\n",
       "      <th></th>\n",
       "      <th></th>\n",
       "      <th></th>\n",
       "      <th></th>\n",
       "      <th></th>\n",
       "      <th></th>\n",
       "      <th></th>\n",
       "      <th></th>\n",
       "      <th></th>\n",
       "      <th></th>\n",
       "      <th></th>\n",
       "      <th></th>\n",
       "      <th></th>\n",
       "      <th></th>\n",
       "      <th></th>\n",
       "      <th></th>\n",
       "      <th></th>\n",
       "      <th></th>\n",
       "      <th></th>\n",
       "      <th></th>\n",
       "    </tr>\n",
       "  </thead>\n",
       "  <tbody>\n",
       "    <tr>\n",
       "      <th>2015-07-01</th>\n",
       "      <td>1</td>\n",
       "      <td>88</td>\n",
       "      <td>2015</td>\n",
       "      <td>July</td>\n",
       "      <td>27</td>\n",
       "      <td>1</td>\n",
       "      <td>0</td>\n",
       "      <td>4</td>\n",
       "      <td>2</td>\n",
       "      <td>0.0</td>\n",
       "      <td>...</td>\n",
       "      <td>9</td>\n",
       "      <td>NULL</td>\n",
       "      <td>0</td>\n",
       "      <td>Transient</td>\n",
       "      <td>76.5</td>\n",
       "      <td>0</td>\n",
       "      <td>1</td>\n",
       "      <td>Canceled</td>\n",
       "      <td>38.25</td>\n",
       "      <td>4</td>\n",
       "    </tr>\n",
       "    <tr>\n",
       "      <th>2015-04-30</th>\n",
       "      <td>1</td>\n",
       "      <td>65</td>\n",
       "      <td>2015</td>\n",
       "      <td>July</td>\n",
       "      <td>27</td>\n",
       "      <td>1</td>\n",
       "      <td>0</td>\n",
       "      <td>4</td>\n",
       "      <td>1</td>\n",
       "      <td>0.0</td>\n",
       "      <td>...</td>\n",
       "      <td>9</td>\n",
       "      <td>NULL</td>\n",
       "      <td>0</td>\n",
       "      <td>Transient</td>\n",
       "      <td>68.0</td>\n",
       "      <td>0</td>\n",
       "      <td>1</td>\n",
       "      <td>Canceled</td>\n",
       "      <td>68.00</td>\n",
       "      <td>4</td>\n",
       "    </tr>\n",
       "    <tr>\n",
       "      <th>2015-06-23</th>\n",
       "      <td>1</td>\n",
       "      <td>92</td>\n",
       "      <td>2015</td>\n",
       "      <td>July</td>\n",
       "      <td>27</td>\n",
       "      <td>1</td>\n",
       "      <td>2</td>\n",
       "      <td>4</td>\n",
       "      <td>2</td>\n",
       "      <td>0.0</td>\n",
       "      <td>...</td>\n",
       "      <td>9</td>\n",
       "      <td>NULL</td>\n",
       "      <td>0</td>\n",
       "      <td>Transient</td>\n",
       "      <td>76.5</td>\n",
       "      <td>0</td>\n",
       "      <td>2</td>\n",
       "      <td>Canceled</td>\n",
       "      <td>38.25</td>\n",
       "      <td>6</td>\n",
       "    </tr>\n",
       "    <tr>\n",
       "      <th>2015-04-02</th>\n",
       "      <td>1</td>\n",
       "      <td>100</td>\n",
       "      <td>2015</td>\n",
       "      <td>July</td>\n",
       "      <td>27</td>\n",
       "      <td>2</td>\n",
       "      <td>0</td>\n",
       "      <td>2</td>\n",
       "      <td>2</td>\n",
       "      <td>0.0</td>\n",
       "      <td>...</td>\n",
       "      <td>9</td>\n",
       "      <td>NULL</td>\n",
       "      <td>0</td>\n",
       "      <td>Transient</td>\n",
       "      <td>76.5</td>\n",
       "      <td>0</td>\n",
       "      <td>1</td>\n",
       "      <td>Canceled</td>\n",
       "      <td>38.25</td>\n",
       "      <td>2</td>\n",
       "    </tr>\n",
       "    <tr>\n",
       "      <th>2015-06-25</th>\n",
       "      <td>1</td>\n",
       "      <td>79</td>\n",
       "      <td>2015</td>\n",
       "      <td>July</td>\n",
       "      <td>27</td>\n",
       "      <td>2</td>\n",
       "      <td>0</td>\n",
       "      <td>3</td>\n",
       "      <td>2</td>\n",
       "      <td>0.0</td>\n",
       "      <td>...</td>\n",
       "      <td>9</td>\n",
       "      <td>NULL</td>\n",
       "      <td>0</td>\n",
       "      <td>Transient</td>\n",
       "      <td>76.5</td>\n",
       "      <td>0</td>\n",
       "      <td>1</td>\n",
       "      <td>Canceled</td>\n",
       "      <td>38.25</td>\n",
       "      <td>3</td>\n",
       "    </tr>\n",
       "    <tr>\n",
       "      <th>...</th>\n",
       "      <td>...</td>\n",
       "      <td>...</td>\n",
       "      <td>...</td>\n",
       "      <td>...</td>\n",
       "      <td>...</td>\n",
       "      <td>...</td>\n",
       "      <td>...</td>\n",
       "      <td>...</td>\n",
       "      <td>...</td>\n",
       "      <td>...</td>\n",
       "      <td>...</td>\n",
       "      <td>...</td>\n",
       "      <td>...</td>\n",
       "      <td>...</td>\n",
       "      <td>...</td>\n",
       "      <td>...</td>\n",
       "      <td>...</td>\n",
       "      <td>...</td>\n",
       "      <td>...</td>\n",
       "      <td>...</td>\n",
       "      <td>...</td>\n",
       "    </tr>\n",
       "    <tr>\n",
       "      <th>2017-05-06</th>\n",
       "      <td>1</td>\n",
       "      <td>25</td>\n",
       "      <td>2017</td>\n",
       "      <td>May</td>\n",
       "      <td>18</td>\n",
       "      <td>6</td>\n",
       "      <td>2</td>\n",
       "      <td>1</td>\n",
       "      <td>1</td>\n",
       "      <td>0.0</td>\n",
       "      <td>...</td>\n",
       "      <td>0</td>\n",
       "      <td>450</td>\n",
       "      <td>0</td>\n",
       "      <td>Transient</td>\n",
       "      <td>125.0</td>\n",
       "      <td>0</td>\n",
       "      <td>0</td>\n",
       "      <td>No-Show</td>\n",
       "      <td>125.00</td>\n",
       "      <td>3</td>\n",
       "    </tr>\n",
       "    <tr>\n",
       "      <th>2017-06-05</th>\n",
       "      <td>1</td>\n",
       "      <td>4</td>\n",
       "      <td>2017</td>\n",
       "      <td>June</td>\n",
       "      <td>23</td>\n",
       "      <td>5</td>\n",
       "      <td>1</td>\n",
       "      <td>0</td>\n",
       "      <td>1</td>\n",
       "      <td>0.0</td>\n",
       "      <td>...</td>\n",
       "      <td>0</td>\n",
       "      <td>238</td>\n",
       "      <td>0</td>\n",
       "      <td>Transient</td>\n",
       "      <td>65.0</td>\n",
       "      <td>0</td>\n",
       "      <td>0</td>\n",
       "      <td>Canceled</td>\n",
       "      <td>65.00</td>\n",
       "      <td>1</td>\n",
       "    </tr>\n",
       "    <tr>\n",
       "      <th>2017-05-31</th>\n",
       "      <td>1</td>\n",
       "      <td>7</td>\n",
       "      <td>2017</td>\n",
       "      <td>May</td>\n",
       "      <td>22</td>\n",
       "      <td>31</td>\n",
       "      <td>0</td>\n",
       "      <td>1</td>\n",
       "      <td>1</td>\n",
       "      <td>0.0</td>\n",
       "      <td>...</td>\n",
       "      <td>0</td>\n",
       "      <td>238</td>\n",
       "      <td>0</td>\n",
       "      <td>Transient</td>\n",
       "      <td>65.0</td>\n",
       "      <td>0</td>\n",
       "      <td>0</td>\n",
       "      <td>Canceled</td>\n",
       "      <td>65.00</td>\n",
       "      <td>1</td>\n",
       "    </tr>\n",
       "    <tr>\n",
       "      <th>2017-07-17</th>\n",
       "      <td>1</td>\n",
       "      <td>6</td>\n",
       "      <td>2017</td>\n",
       "      <td>July</td>\n",
       "      <td>29</td>\n",
       "      <td>17</td>\n",
       "      <td>1</td>\n",
       "      <td>0</td>\n",
       "      <td>1</td>\n",
       "      <td>0.0</td>\n",
       "      <td>...</td>\n",
       "      <td>0</td>\n",
       "      <td>238</td>\n",
       "      <td>0</td>\n",
       "      <td>Transient</td>\n",
       "      <td>65.0</td>\n",
       "      <td>0</td>\n",
       "      <td>0</td>\n",
       "      <td>No-Show</td>\n",
       "      <td>65.00</td>\n",
       "      <td>1</td>\n",
       "    </tr>\n",
       "    <tr>\n",
       "      <th>2017-08-02</th>\n",
       "      <td>1</td>\n",
       "      <td>0</td>\n",
       "      <td>2017</td>\n",
       "      <td>August</td>\n",
       "      <td>31</td>\n",
       "      <td>2</td>\n",
       "      <td>0</td>\n",
       "      <td>2</td>\n",
       "      <td>1</td>\n",
       "      <td>0.0</td>\n",
       "      <td>...</td>\n",
       "      <td>0</td>\n",
       "      <td>40</td>\n",
       "      <td>0</td>\n",
       "      <td>Transient</td>\n",
       "      <td>65.0</td>\n",
       "      <td>0</td>\n",
       "      <td>1</td>\n",
       "      <td>No-Show</td>\n",
       "      <td>65.00</td>\n",
       "      <td>2</td>\n",
       "    </tr>\n",
       "  </tbody>\n",
       "</table>\n",
       "<p>33079 rows × 32 columns</p>\n",
       "</div>"
      ],
      "text/plain": [
       "                       IsCanceled  LeadTime  ArrivalDateYear ArrivalDateMonth  \\\n",
       "ReservationStatusDate                                                           \n",
       "2015-07-01                      1        88             2015             July   \n",
       "2015-04-30                      1        65             2015             July   \n",
       "2015-06-23                      1        92             2015             July   \n",
       "2015-04-02                      1       100             2015             July   \n",
       "2015-06-25                      1        79             2015             July   \n",
       "...                           ...       ...              ...              ...   \n",
       "2017-05-06                      1        25             2017              May   \n",
       "2017-06-05                      1         4             2017             June   \n",
       "2017-05-31                      1         7             2017              May   \n",
       "2017-07-17                      1         6             2017             July   \n",
       "2017-08-02                      1         0             2017           August   \n",
       "\n",
       "                       ArrivalDateWeekNumber  ArrivalDateDayOfMonth  \\\n",
       "ReservationStatusDate                                                 \n",
       "2015-07-01                                27                      1   \n",
       "2015-04-30                                27                      1   \n",
       "2015-06-23                                27                      1   \n",
       "2015-04-02                                27                      2   \n",
       "2015-06-25                                27                      2   \n",
       "...                                      ...                    ...   \n",
       "2017-05-06                                18                      6   \n",
       "2017-06-05                                23                      5   \n",
       "2017-05-31                                22                     31   \n",
       "2017-07-17                                29                     17   \n",
       "2017-08-02                                31                      2   \n",
       "\n",
       "                       StaysInWeekendNights  StaysInWeekNights  Adults  \\\n",
       "ReservationStatusDate                                                    \n",
       "2015-07-01                                0                  4       2   \n",
       "2015-04-30                                0                  4       1   \n",
       "2015-06-23                                2                  4       2   \n",
       "2015-04-02                                0                  2       2   \n",
       "2015-06-25                                0                  3       2   \n",
       "...                                     ...                ...     ...   \n",
       "2017-05-06                                2                  1       1   \n",
       "2017-06-05                                1                  0       1   \n",
       "2017-05-31                                0                  1       1   \n",
       "2017-07-17                                1                  0       1   \n",
       "2017-08-02                                0                  2       1   \n",
       "\n",
       "                       Children  ...        Agent      Company  \\\n",
       "ReservationStatusDate            ...                             \n",
       "2015-07-01                  0.0  ...            9         NULL   \n",
       "2015-04-30                  0.0  ...            9         NULL   \n",
       "2015-06-23                  0.0  ...            9         NULL   \n",
       "2015-04-02                  0.0  ...            9         NULL   \n",
       "2015-06-25                  0.0  ...            9         NULL   \n",
       "...                         ...  ...          ...          ...   \n",
       "2017-05-06                  0.0  ...            0          450   \n",
       "2017-06-05                  0.0  ...            0          238   \n",
       "2017-05-31                  0.0  ...            0          238   \n",
       "2017-07-17                  0.0  ...            0          238   \n",
       "2017-08-02                  0.0  ...            0           40   \n",
       "\n",
       "                      DaysInWaitingList CustomerType    ADR  \\\n",
       "ReservationStatusDate                                         \n",
       "2015-07-01                            0    Transient   76.5   \n",
       "2015-04-30                            0    Transient   68.0   \n",
       "2015-06-23                            0    Transient   76.5   \n",
       "2015-04-02                            0    Transient   76.5   \n",
       "2015-06-25                            0    Transient   76.5   \n",
       "...                                 ...          ...    ...   \n",
       "2017-05-06                            0    Transient  125.0   \n",
       "2017-06-05                            0    Transient   65.0   \n",
       "2017-05-31                            0    Transient   65.0   \n",
       "2017-07-17                            0    Transient   65.0   \n",
       "2017-08-02                            0    Transient   65.0   \n",
       "\n",
       "                       RequiredCarParkingSpaces  TotalOfSpecialRequests  \\\n",
       "ReservationStatusDate                                                     \n",
       "2015-07-01                                    0                       1   \n",
       "2015-04-30                                    0                       1   \n",
       "2015-06-23                                    0                       2   \n",
       "2015-04-02                                    0                       1   \n",
       "2015-06-25                                    0                       1   \n",
       "...                                         ...                     ...   \n",
       "2017-05-06                                    0                       0   \n",
       "2017-06-05                                    0                       0   \n",
       "2017-05-31                                    0                       0   \n",
       "2017-07-17                                    0                       0   \n",
       "2017-08-02                                    0                       1   \n",
       "\n",
       "                       ReservationStatus   ADRpp TotalNights  \n",
       "ReservationStatusDate                                         \n",
       "2015-07-01                      Canceled   38.25           4  \n",
       "2015-04-30                      Canceled   68.00           4  \n",
       "2015-06-23                      Canceled   38.25           6  \n",
       "2015-04-02                      Canceled   38.25           2  \n",
       "2015-06-25                      Canceled   38.25           3  \n",
       "...                                  ...     ...         ...  \n",
       "2017-05-06                       No-Show  125.00           3  \n",
       "2017-06-05                      Canceled   65.00           1  \n",
       "2017-05-31                      Canceled   65.00           1  \n",
       "2017-07-17                       No-Show   65.00           1  \n",
       "2017-08-02                       No-Show   65.00           2  \n",
       "\n",
       "[33079 rows x 32 columns]"
      ]
     },
     "execution_count": 27,
     "metadata": {},
     "output_type": "execute_result"
    }
   ],
   "source": [
    "canceledDates"
   ]
  },
  {
   "cell_type": "code",
   "execution_count": 28,
   "metadata": {},
   "outputs": [],
   "source": [
    "ordered_months = [\"January\", \"February\", \"March\", \"April\", \"May\", \"June\", \n",
    "          \"July\", \"August\", \"September\", \"October\", \"November\", \"December\"]\n",
    "# Do GRAPH cancelations percentaje per month"
   ]
  },
  {
   "cell_type": "markdown",
   "metadata": {},
   "source": [
    "## b) Data Preprocessing"
   ]
  },
  {
   "cell_type": "code",
   "execution_count": 29,
   "metadata": {},
   "outputs": [],
   "source": [
    "data = data.drop(columns=['ReservationStatus', 'ReservationStatusDate', 'Country','DepositType'])"
   ]
  },
  {
   "cell_type": "markdown",
   "metadata": {},
   "source": [
    "### One hot encoding"
   ]
  },
  {
   "cell_type": "code",
   "execution_count": 30,
   "metadata": {},
   "outputs": [],
   "source": [
    "data_ohc = data.copy()"
   ]
  },
  {
   "cell_type": "code",
   "execution_count": 31,
   "metadata": {},
   "outputs": [
    {
     "data": {
      "text/plain": [
       "IsCanceled                     0\n",
       "LeadTime                       0\n",
       "ArrivalDateYear                0\n",
       "ArrivalDateMonth               0\n",
       "ArrivalDateWeekNumber          0\n",
       "ArrivalDateDayOfMonth          0\n",
       "StaysInWeekendNights           0\n",
       "StaysInWeekNights              0\n",
       "Adults                         0\n",
       "Children                       0\n",
       "Babies                         0\n",
       "Meal                           0\n",
       "MarketSegment                  0\n",
       "DistributionChannel            0\n",
       "IsRepeatedGuest                0\n",
       "PreviousCancellations          0\n",
       "PreviousBookingsNotCanceled    0\n",
       "ReservedRoomType               0\n",
       "AssignedRoomType               0\n",
       "BookingChanges                 0\n",
       "Agent                          0\n",
       "Company                        0\n",
       "DaysInWaitingList              0\n",
       "CustomerType                   0\n",
       "ADR                            0\n",
       "RequiredCarParkingSpaces       0\n",
       "TotalOfSpecialRequests         0\n",
       "ADRpp                          0\n",
       "TotalNights                    0\n",
       "dtype: int64"
      ]
     },
     "execution_count": 31,
     "metadata": {},
     "output_type": "execute_result"
    }
   ],
   "source": [
    "data_ohc.isnull().sum()"
   ]
  },
  {
   "cell_type": "code",
   "execution_count": 32,
   "metadata": {},
   "outputs": [],
   "source": [
    "##Non metric features excluding the target variable, \n",
    "#the variable created with the date of the reservation completed, \n",
    "#the ArrivalDateDayOfMonth,\n",
    "#the ArrivalDate and the ReservationStatusDate\n",
    "non_metric_features = ['ArrivalDateYear','ArrivalDateMonth','ArrivalDateWeekNumber',\n",
    "                       'Meal','MarketSegment','DistributionChannel','IsRepeatedGuest',\n",
    "                       'ReservedRoomType','AssignedRoomType','Company','Agent',\n",
    "                       'CustomerType','RequiredCarParkingSpaces']"
   ]
  },
  {
   "cell_type": "code",
   "execution_count": 33,
   "metadata": {},
   "outputs": [
    {
     "data": {
      "text/html": [
       "<div>\n",
       "<style scoped>\n",
       "    .dataframe tbody tr th:only-of-type {\n",
       "        vertical-align: middle;\n",
       "    }\n",
       "\n",
       "    .dataframe tbody tr th {\n",
       "        vertical-align: top;\n",
       "    }\n",
       "\n",
       "    .dataframe thead th {\n",
       "        text-align: right;\n",
       "    }\n",
       "</style>\n",
       "<table border=\"1\" class=\"dataframe\">\n",
       "  <thead>\n",
       "    <tr style=\"text-align: right;\">\n",
       "      <th></th>\n",
       "      <th>x0_2016</th>\n",
       "      <th>x0_2017</th>\n",
       "      <th>x1_August</th>\n",
       "      <th>x1_December</th>\n",
       "      <th>x1_February</th>\n",
       "      <th>x1_January</th>\n",
       "      <th>x1_July</th>\n",
       "      <th>x1_June</th>\n",
       "      <th>x1_March</th>\n",
       "      <th>x1_May</th>\n",
       "      <th>...</th>\n",
       "      <th>x10_        484</th>\n",
       "      <th>x10_        495</th>\n",
       "      <th>x10_        509</th>\n",
       "      <th>x10_       0</th>\n",
       "      <th>x11_Group</th>\n",
       "      <th>x11_Transient</th>\n",
       "      <th>x11_Transient-Party</th>\n",
       "      <th>x12_1</th>\n",
       "      <th>x12_2</th>\n",
       "      <th>x12_3</th>\n",
       "    </tr>\n",
       "  </thead>\n",
       "  <tbody>\n",
       "    <tr>\n",
       "      <th>0</th>\n",
       "      <td>0.0</td>\n",
       "      <td>0.0</td>\n",
       "      <td>0.0</td>\n",
       "      <td>0.0</td>\n",
       "      <td>0.0</td>\n",
       "      <td>0.0</td>\n",
       "      <td>1.0</td>\n",
       "      <td>0.0</td>\n",
       "      <td>0.0</td>\n",
       "      <td>0.0</td>\n",
       "      <td>...</td>\n",
       "      <td>0.0</td>\n",
       "      <td>0.0</td>\n",
       "      <td>0.0</td>\n",
       "      <td>0.0</td>\n",
       "      <td>0.0</td>\n",
       "      <td>1.0</td>\n",
       "      <td>0.0</td>\n",
       "      <td>0.0</td>\n",
       "      <td>0.0</td>\n",
       "      <td>0.0</td>\n",
       "    </tr>\n",
       "    <tr>\n",
       "      <th>1</th>\n",
       "      <td>0.0</td>\n",
       "      <td>0.0</td>\n",
       "      <td>0.0</td>\n",
       "      <td>0.0</td>\n",
       "      <td>0.0</td>\n",
       "      <td>0.0</td>\n",
       "      <td>1.0</td>\n",
       "      <td>0.0</td>\n",
       "      <td>0.0</td>\n",
       "      <td>0.0</td>\n",
       "      <td>...</td>\n",
       "      <td>0.0</td>\n",
       "      <td>0.0</td>\n",
       "      <td>0.0</td>\n",
       "      <td>0.0</td>\n",
       "      <td>0.0</td>\n",
       "      <td>1.0</td>\n",
       "      <td>0.0</td>\n",
       "      <td>0.0</td>\n",
       "      <td>0.0</td>\n",
       "      <td>0.0</td>\n",
       "    </tr>\n",
       "    <tr>\n",
       "      <th>2</th>\n",
       "      <td>0.0</td>\n",
       "      <td>0.0</td>\n",
       "      <td>0.0</td>\n",
       "      <td>0.0</td>\n",
       "      <td>0.0</td>\n",
       "      <td>0.0</td>\n",
       "      <td>1.0</td>\n",
       "      <td>0.0</td>\n",
       "      <td>0.0</td>\n",
       "      <td>0.0</td>\n",
       "      <td>...</td>\n",
       "      <td>0.0</td>\n",
       "      <td>0.0</td>\n",
       "      <td>0.0</td>\n",
       "      <td>0.0</td>\n",
       "      <td>0.0</td>\n",
       "      <td>1.0</td>\n",
       "      <td>0.0</td>\n",
       "      <td>0.0</td>\n",
       "      <td>0.0</td>\n",
       "      <td>0.0</td>\n",
       "    </tr>\n",
       "  </tbody>\n",
       "</table>\n",
       "<p>3 rows × 525 columns</p>\n",
       "</div>"
      ],
      "text/plain": [
       "   x0_2016  x0_2017  x1_August  x1_December  x1_February  x1_January  x1_July  \\\n",
       "0      0.0      0.0        0.0          0.0          0.0         0.0      1.0   \n",
       "1      0.0      0.0        0.0          0.0          0.0         0.0      1.0   \n",
       "2      0.0      0.0        0.0          0.0          0.0         0.0      1.0   \n",
       "\n",
       "   x1_June  x1_March  x1_May  ...  x10_        484  x10_        495  \\\n",
       "0      0.0       0.0     0.0  ...              0.0              0.0   \n",
       "1      0.0       0.0     0.0  ...              0.0              0.0   \n",
       "2      0.0       0.0     0.0  ...              0.0              0.0   \n",
       "\n",
       "   x10_        509  x10_       0  x11_Group  x11_Transient  \\\n",
       "0              0.0           0.0        0.0            1.0   \n",
       "1              0.0           0.0        0.0            1.0   \n",
       "2              0.0           0.0        0.0            1.0   \n",
       "\n",
       "   x11_Transient-Party  x12_1  x12_2  x12_3  \n",
       "0                  0.0    0.0    0.0    0.0  \n",
       "1                  0.0    0.0    0.0    0.0  \n",
       "2                  0.0    0.0    0.0    0.0  \n",
       "\n",
       "[3 rows x 525 columns]"
      ]
     },
     "execution_count": 33,
     "metadata": {},
     "output_type": "execute_result"
    }
   ],
   "source": [
    "# Use OneHotEncoder to encode the categorical features. Get feature names and create a DataFrame \n",
    "# with the one-hot encoded categorical features (pass feature names)\n",
    "ohc = OneHotEncoder(sparse=False, drop=\"first\")\n",
    "ohc_feat = ohc.fit_transform(data_ohc[non_metric_features])\n",
    "ohc_feat_names = ohc.get_feature_names()\n",
    "ohc_df = pd.DataFrame(ohc_feat, index=data_ohc.index, columns=ohc_feat_names)  # Why the index=df_ohc.index?\n",
    "ohc_df.head(3)"
   ]
  },
  {
   "cell_type": "code",
   "execution_count": 34,
   "metadata": {},
   "outputs": [
    {
     "data": {
      "text/html": [
       "<div>\n",
       "<style scoped>\n",
       "    .dataframe tbody tr th:only-of-type {\n",
       "        vertical-align: middle;\n",
       "    }\n",
       "\n",
       "    .dataframe tbody tr th {\n",
       "        vertical-align: top;\n",
       "    }\n",
       "\n",
       "    .dataframe thead th {\n",
       "        text-align: right;\n",
       "    }\n",
       "</style>\n",
       "<table border=\"1\" class=\"dataframe\">\n",
       "  <thead>\n",
       "    <tr style=\"text-align: right;\">\n",
       "      <th></th>\n",
       "      <th>IsCanceled</th>\n",
       "      <th>LeadTime</th>\n",
       "      <th>ArrivalDateDayOfMonth</th>\n",
       "      <th>StaysInWeekendNights</th>\n",
       "      <th>StaysInWeekNights</th>\n",
       "      <th>Adults</th>\n",
       "      <th>Children</th>\n",
       "      <th>Babies</th>\n",
       "      <th>PreviousCancellations</th>\n",
       "      <th>PreviousBookingsNotCanceled</th>\n",
       "      <th>...</th>\n",
       "      <th>x10_        484</th>\n",
       "      <th>x10_        495</th>\n",
       "      <th>x10_        509</th>\n",
       "      <th>x10_       0</th>\n",
       "      <th>x11_Group</th>\n",
       "      <th>x11_Transient</th>\n",
       "      <th>x11_Transient-Party</th>\n",
       "      <th>x12_1</th>\n",
       "      <th>x12_2</th>\n",
       "      <th>x12_3</th>\n",
       "    </tr>\n",
       "  </thead>\n",
       "  <tbody>\n",
       "    <tr>\n",
       "      <th>0</th>\n",
       "      <td>0</td>\n",
       "      <td>6</td>\n",
       "      <td>1</td>\n",
       "      <td>0</td>\n",
       "      <td>2</td>\n",
       "      <td>1</td>\n",
       "      <td>0.0</td>\n",
       "      <td>0</td>\n",
       "      <td>0</td>\n",
       "      <td>0</td>\n",
       "      <td>...</td>\n",
       "      <td>0.0</td>\n",
       "      <td>0.0</td>\n",
       "      <td>0.0</td>\n",
       "      <td>0.0</td>\n",
       "      <td>0.0</td>\n",
       "      <td>1.0</td>\n",
       "      <td>0.0</td>\n",
       "      <td>0.0</td>\n",
       "      <td>0.0</td>\n",
       "      <td>0.0</td>\n",
       "    </tr>\n",
       "    <tr>\n",
       "      <th>1</th>\n",
       "      <td>1</td>\n",
       "      <td>88</td>\n",
       "      <td>1</td>\n",
       "      <td>0</td>\n",
       "      <td>4</td>\n",
       "      <td>2</td>\n",
       "      <td>0.0</td>\n",
       "      <td>0</td>\n",
       "      <td>0</td>\n",
       "      <td>0</td>\n",
       "      <td>...</td>\n",
       "      <td>0.0</td>\n",
       "      <td>0.0</td>\n",
       "      <td>0.0</td>\n",
       "      <td>0.0</td>\n",
       "      <td>0.0</td>\n",
       "      <td>1.0</td>\n",
       "      <td>0.0</td>\n",
       "      <td>0.0</td>\n",
       "      <td>0.0</td>\n",
       "      <td>0.0</td>\n",
       "    </tr>\n",
       "    <tr>\n",
       "      <th>2</th>\n",
       "      <td>1</td>\n",
       "      <td>65</td>\n",
       "      <td>1</td>\n",
       "      <td>0</td>\n",
       "      <td>4</td>\n",
       "      <td>1</td>\n",
       "      <td>0.0</td>\n",
       "      <td>0</td>\n",
       "      <td>0</td>\n",
       "      <td>0</td>\n",
       "      <td>...</td>\n",
       "      <td>0.0</td>\n",
       "      <td>0.0</td>\n",
       "      <td>0.0</td>\n",
       "      <td>0.0</td>\n",
       "      <td>0.0</td>\n",
       "      <td>1.0</td>\n",
       "      <td>0.0</td>\n",
       "      <td>0.0</td>\n",
       "      <td>0.0</td>\n",
       "      <td>0.0</td>\n",
       "    </tr>\n",
       "  </tbody>\n",
       "</table>\n",
       "<p>3 rows × 541 columns</p>\n",
       "</div>"
      ],
      "text/plain": [
       "   IsCanceled  LeadTime  ArrivalDateDayOfMonth  StaysInWeekendNights  \\\n",
       "0           0         6                      1                     0   \n",
       "1           1        88                      1                     0   \n",
       "2           1        65                      1                     0   \n",
       "\n",
       "   StaysInWeekNights  Adults  Children  Babies  PreviousCancellations  \\\n",
       "0                  2       1       0.0       0                      0   \n",
       "1                  4       2       0.0       0                      0   \n",
       "2                  4       1       0.0       0                      0   \n",
       "\n",
       "   PreviousBookingsNotCanceled  ...  x10_        484  x10_        495  \\\n",
       "0                            0  ...              0.0              0.0   \n",
       "1                            0  ...              0.0              0.0   \n",
       "2                            0  ...              0.0              0.0   \n",
       "\n",
       "   x10_        509  x10_       0  x11_Group  x11_Transient  \\\n",
       "0              0.0           0.0        0.0            1.0   \n",
       "1              0.0           0.0        0.0            1.0   \n",
       "2              0.0           0.0        0.0            1.0   \n",
       "\n",
       "   x11_Transient-Party  x12_1  x12_2  x12_3  \n",
       "0                  0.0    0.0    0.0    0.0  \n",
       "1                  0.0    0.0    0.0    0.0  \n",
       "2                  0.0    0.0    0.0    0.0  \n",
       "\n",
       "[3 rows x 541 columns]"
      ]
     },
     "execution_count": 34,
     "metadata": {},
     "output_type": "execute_result"
    }
   ],
   "source": [
    "# Reassigning data to contain ohc variables\n",
    "data_ohc = pd.concat([data_ohc.drop(columns=non_metric_features), ohc_df], axis=1)\n",
    "data_ohc.head(3)"
   ]
  },
  {
   "cell_type": "markdown",
   "metadata": {},
   "source": [
    "### Feature Selection "
   ]
  },
  {
   "cell_type": "markdown",
   "metadata": {},
   "source": [
    "In feature selection several different models contribute with different perspectives, this said, our methodology regarding feature selection was to create an artificial collaboration to get the best from each method.\n",
    "\n",
    "5 different methods were used, namely correlation with our target variable, rfe, lasso CV, Ridge Regression, and a Decision Tree feature selection for both gini and entropy criterions. We used the best 30 features for all methods, except for the Ridge regression in which we used only the ones that were different than 0. Then counted the times a feature appeared for each method and we applied a threshold. This threshold allowed us to have a good feature selection and to easily manipulate the amount of features we had in our model by just lowering the threshold from minimum 2 methods or to minimum 3 methods required to appear in the final variables for the classification solution.\n",
    "\n",
    "- Using Correlation w/ IsCanceled\n",
    "- Using rfe\n",
    "- Using LassoCV\n",
    "- Using Ridge CV\n",
    "- Using DecisionTreeClassifier"
   ]
  },
  {
   "cell_type": "code",
   "execution_count": 35,
   "metadata": {},
   "outputs": [
    {
     "data": {
      "text/plain": [
       "IsCanceled                1.000000\n",
       "LeadTime                  0.308783\n",
       "TotalOfSpecialRequests    0.294250\n",
       "x4_Groups                 0.254515\n",
       "x5_TA/TO                  0.172385\n",
       "PreviousCancellations     0.166679\n",
       "BookingChanges            0.150418\n",
       "x11_Transient-Party       0.146542\n",
       "x5_Direct                 0.145839\n",
       "x4_Direct                 0.142560\n",
       "x11_Transient             0.136502\n",
       "x12_1                     0.133396\n",
       "x8_D                      0.129681\n",
       "x10_          7           0.124287\n",
       "x10_         14           0.106008\n",
       "x10_         28           0.104198\n",
       "x9_       NULL            0.092121\n",
       "x4_Online TA              0.085843\n",
       "x4_Corporate              0.081313\n",
       "x10_         19           0.074508\n",
       "Name: IsCanceled, dtype: float64"
      ]
     },
     "execution_count": 35,
     "metadata": {},
     "output_type": "execute_result"
    }
   ],
   "source": [
    "#Correlation w/ IsCanceled\n",
    "data_ohc.corr().abs()['IsCanceled'].sort_values(ascending=False).head(20)"
   ]
  },
  {
   "cell_type": "code",
   "execution_count": 36,
   "metadata": {},
   "outputs": [],
   "source": [
    "top20 = list()\n",
    "top20.append(data_ohc.corr().abs()['IsCanceled'].sort_values(ascending=False).head(20))"
   ]
  },
  {
   "cell_type": "code",
   "execution_count": 37,
   "metadata": {},
   "outputs": [
    {
     "data": {
      "text/plain": [
       "StaysInWeekendNights    True\n",
       "StaysInWeekNights       True\n",
       "TotalNights             True\n",
       "x5_Undefined            True\n",
       "x9_         48          True\n",
       "x9_        122          True\n",
       "x9_        202          True\n",
       "x9_        253          True\n",
       "x9_        277          True\n",
       "x9_        309          True\n",
       "x9_        316          True\n",
       "x9_        321          True\n",
       "x9_        368          True\n",
       "x9_        452          True\n",
       "x9_        466          True\n",
       "x10_         78         True\n",
       "x10_        107         True\n",
       "x10_        276         True\n",
       "x10_        294         True\n",
       "x10_        331         True\n",
       "dtype: bool"
      ]
     },
     "execution_count": 37,
     "metadata": {},
     "output_type": "execute_result"
    }
   ],
   "source": [
    "#RFE\n",
    "target = data_ohc['IsCanceled']\n",
    "datafe = data_ohc.copy().drop(['IsCanceled'], axis=1)\n",
    "\n",
    "modelLR = LinearRegression()\n",
    "rfe = RFE(estimator = modelLR, n_features_to_select = 20)\n",
    "c = rfe.fit_transform(X = datafe, y = target)\n",
    "modelLR.fit(X = datafe, y = target)\n",
    "selected_features = pd.Series(rfe.support_, index = datafe.columns)\n",
    "selected_features[selected_features.values==True]"
   ]
  },
  {
   "cell_type": "code",
   "execution_count": 38,
   "metadata": {},
   "outputs": [],
   "source": [
    "top20.append(selected_features[selected_features.values==True].index)"
   ]
  },
  {
   "cell_type": "code",
   "execution_count": 39,
   "metadata": {},
   "outputs": [
    {
     "data": {
      "text/plain": [
       "LassoCV()"
      ]
     },
     "execution_count": 39,
     "metadata": {},
     "output_type": "execute_result"
    }
   ],
   "source": [
    "#Lasso Regression\n",
    "reg = LassoCV()\n",
    "reg.fit(X = datafe, y = target)"
   ]
  },
  {
   "cell_type": "code",
   "execution_count": 40,
   "metadata": {},
   "outputs": [
    {
     "name": "stdout",
     "output_type": "stream",
     "text": [
      "Best alpha using built-in LassoCV: 0.073152\n",
      "Best score using built-in LassoCV: 0.127836\n",
      "Lasso picked 3 variables and eliminated the other 537 variables\n"
     ]
    }
   ],
   "source": [
    "print(\"Best alpha using built-in LassoCV: %f\" % reg.alpha_)\n",
    "print(\"Best score using built-in LassoCV: %f\" %reg.score(datafe,target))\n",
    "\n",
    "coef = pd.Series(reg.coef_, index = datafe.columns)\n",
    "print(\"Lasso picked \" + str(sum(coef != 0)) + \" variables and eliminated the other \" +  str(sum(coef == 0)) + \" variables\")  "
   ]
  },
  {
   "cell_type": "code",
   "execution_count": 41,
   "metadata": {},
   "outputs": [],
   "source": [
    "top20.append(coef[coef.values!=0].index)"
   ]
  },
  {
   "cell_type": "code",
   "execution_count": 42,
   "metadata": {},
   "outputs": [
    {
     "name": "stdout",
     "output_type": "stream",
     "text": [
      "The alpha atribute using RidgeCV: 0.100000\n",
      "The score using RidgeCV: 0.393966\n"
     ]
    },
    {
     "data": {
      "text/plain": [
       "x9_        321      1.286460\n",
       "x1_December         1.029340\n",
       "x9_        452      0.986622\n",
       "x1_November         0.935946\n",
       "x5_Undefined        0.859068\n",
       "x9_        277      0.801182\n",
       "x1_October          0.799149\n",
       "x10_        107     0.798511\n",
       "x9_        350      0.773934\n",
       "x9_        466      0.749103\n",
       "x4_Groups           0.723532\n",
       "x9_        428      0.712084\n",
       "x9_         48      0.699008\n",
       "x1_September        0.690276\n",
       "x4_Offline TA/TO    0.641955\n",
       "x9_        202      0.637512\n",
       "x9_        309      0.636917\n",
       "x10_        270     0.615859\n",
       "x9_        316      0.597271\n",
       "x9_        253      0.557193\n",
       "dtype: float64"
      ]
     },
     "execution_count": 42,
     "metadata": {},
     "output_type": "execute_result"
    }
   ],
   "source": [
    "#Ridge Regression\n",
    "ridge = RidgeCV()\n",
    "ridge.fit(X = datafe, y = target)\n",
    "print('The alpha atribute using RidgeCV: %f' %ridge.alpha_)\n",
    "print('The score using RidgeCV: %f' %ridge.score(datafe,target))\n",
    "coef_ridge = pd.Series(ridge.coef_, index = datafe.columns)\n",
    "coef_ridge.sort_values(ascending=False).head(20)"
   ]
  },
  {
   "cell_type": "code",
   "execution_count": 43,
   "metadata": {},
   "outputs": [],
   "source": [
    "top20.append(coef_ridge.sort_values(ascending=False).head(20).index)"
   ]
  },
  {
   "cell_type": "code",
   "execution_count": 50,
   "metadata": {},
   "outputs": [],
   "source": [
    "# Decision Tree Classifier\n",
    "gini_importance = DecisionTreeClassifier().fit(datafe, target).feature_importances_\n",
    "entropy_importance = DecisionTreeClassifier(criterion='entropy').fit(datafe, target).feature_importances_"
   ]
  },
  {
   "cell_type": "code",
   "execution_count": 51,
   "metadata": {
    "scrolled": true
   },
   "outputs": [
    {
     "data": {
      "text/plain": [
       "<AxesSubplot:xlabel='Value', ylabel='Col'>"
      ]
     },
     "execution_count": 51,
     "metadata": {},
     "output_type": "execute_result"
    },
    {
     "data": {
      "image/png": "[encoded data removed]",
      "text/plain": [
       "<Figure size 1080x576 with 1 Axes>"
      ]
     },
     "metadata": {},
     "output_type": "display_data"
    }
   ],
   "source": [
    "zippy = pd.DataFrame(zip(gini_importance, entropy_importance), columns = ['gini','entropy'])\n",
    "zippy['col'] = datafe.columns\n",
    "tidy = zippy.melt(id_vars='col').rename(columns=str.title)\n",
    "tidy.sort_values(['Value'], ascending = False, inplace = True)\n",
    "\n",
    "plt.figure(figsize=(15,8))\n",
    "sns.barplot(y='Col', x='Value', hue='Variable', data=tidy.head(30))"
   ]
  },
  {
   "cell_type": "code",
   "execution_count": 52,
   "metadata": {},
   "outputs": [],
   "source": [
    "top20.append(tidy.sort_values(['Value'], ascending = False).head(30)['Col'].drop_duplicates().values)"
   ]
  },
  {
   "cell_type": "code",
   "execution_count": 53,
   "metadata": {},
   "outputs": [],
   "source": [
    "onlyDT = tidy.sort_values(['Value'], ascending = False).head(30)['Col'].values.tolist()"
   ]
  },
  {
   "cell_type": "code",
   "execution_count": 54,
   "metadata": {},
   "outputs": [
    {
     "data": {
      "text/plain": [
       "x5_Undefined      2\n",
       "x9_         48    2\n",
       "x4_Groups         2\n",
       "dtype: int64"
      ]
     },
     "execution_count": 54,
     "metadata": {},
     "output_type": "execute_result"
    }
   ],
   "source": [
    "series20 = pd.Series(top20) \n",
    "series20 = series20.explode().value_counts()\n",
    "series20.head(3)"
   ]
  },
  {
   "cell_type": "code",
   "execution_count": 49,
   "metadata": {},
   "outputs": [
    {
     "data": {
      "text/html": [
       "<div>\n",
       "<style scoped>\n",
       "    .dataframe tbody tr th:only-of-type {\n",
       "        vertical-align: middle;\n",
       "    }\n",
       "\n",
       "    .dataframe tbody tr th {\n",
       "        vertical-align: top;\n",
       "    }\n",
       "\n",
       "    .dataframe thead th {\n",
       "        text-align: right;\n",
       "    }\n",
       "</style>\n",
       "<table border=\"1\" class=\"dataframe\">\n",
       "  <thead>\n",
       "    <tr style=\"text-align: right;\">\n",
       "      <th></th>\n",
       "      <th>LeadTime</th>\n",
       "      <th>ArrivalDateDayOfMonth</th>\n",
       "      <th>StaysInWeekendNights</th>\n",
       "      <th>StaysInWeekNights</th>\n",
       "      <th>Adults</th>\n",
       "      <th>Children</th>\n",
       "      <th>Babies</th>\n",
       "      <th>PreviousCancellations</th>\n",
       "      <th>PreviousBookingsNotCanceled</th>\n",
       "      <th>BookingChanges</th>\n",
       "      <th>...</th>\n",
       "      <th>x10_        484</th>\n",
       "      <th>x10_        495</th>\n",
       "      <th>x10_        509</th>\n",
       "      <th>x10_       0</th>\n",
       "      <th>x11_Group</th>\n",
       "      <th>x11_Transient</th>\n",
       "      <th>x11_Transient-Party</th>\n",
       "      <th>x12_1</th>\n",
       "      <th>x12_2</th>\n",
       "      <th>x12_3</th>\n",
       "    </tr>\n",
       "  </thead>\n",
       "  <tbody>\n",
       "    <tr>\n",
       "      <th>0</th>\n",
       "      <td>6</td>\n",
       "      <td>1</td>\n",
       "      <td>0</td>\n",
       "      <td>2</td>\n",
       "      <td>1</td>\n",
       "      <td>0.0</td>\n",
       "      <td>0</td>\n",
       "      <td>0</td>\n",
       "      <td>0</td>\n",
       "      <td>0</td>\n",
       "      <td>...</td>\n",
       "      <td>0.0</td>\n",
       "      <td>0.0</td>\n",
       "      <td>0.0</td>\n",
       "      <td>0.0</td>\n",
       "      <td>0.0</td>\n",
       "      <td>1.0</td>\n",
       "      <td>0.0</td>\n",
       "      <td>0.0</td>\n",
       "      <td>0.0</td>\n",
       "      <td>0.0</td>\n",
       "    </tr>\n",
       "    <tr>\n",
       "      <th>1</th>\n",
       "      <td>88</td>\n",
       "      <td>1</td>\n",
       "      <td>0</td>\n",
       "      <td>4</td>\n",
       "      <td>2</td>\n",
       "      <td>0.0</td>\n",
       "      <td>0</td>\n",
       "      <td>0</td>\n",
       "      <td>0</td>\n",
       "      <td>0</td>\n",
       "      <td>...</td>\n",
       "      <td>0.0</td>\n",
       "      <td>0.0</td>\n",
       "      <td>0.0</td>\n",
       "      <td>0.0</td>\n",
       "      <td>0.0</td>\n",
       "      <td>1.0</td>\n",
       "      <td>0.0</td>\n",
       "      <td>0.0</td>\n",
       "      <td>0.0</td>\n",
       "      <td>0.0</td>\n",
       "    </tr>\n",
       "    <tr>\n",
       "      <th>2</th>\n",
       "      <td>65</td>\n",
       "      <td>1</td>\n",
       "      <td>0</td>\n",
       "      <td>4</td>\n",
       "      <td>1</td>\n",
       "      <td>0.0</td>\n",
       "      <td>0</td>\n",
       "      <td>0</td>\n",
       "      <td>0</td>\n",
       "      <td>0</td>\n",
       "      <td>...</td>\n",
       "      <td>0.0</td>\n",
       "      <td>0.0</td>\n",
       "      <td>0.0</td>\n",
       "      <td>0.0</td>\n",
       "      <td>0.0</td>\n",
       "      <td>1.0</td>\n",
       "      <td>0.0</td>\n",
       "      <td>0.0</td>\n",
       "      <td>0.0</td>\n",
       "      <td>0.0</td>\n",
       "    </tr>\n",
       "    <tr>\n",
       "      <th>3</th>\n",
       "      <td>92</td>\n",
       "      <td>1</td>\n",
       "      <td>2</td>\n",
       "      <td>4</td>\n",
       "      <td>2</td>\n",
       "      <td>0.0</td>\n",
       "      <td>0</td>\n",
       "      <td>0</td>\n",
       "      <td>0</td>\n",
       "      <td>0</td>\n",
       "      <td>...</td>\n",
       "      <td>0.0</td>\n",
       "      <td>0.0</td>\n",
       "      <td>0.0</td>\n",
       "      <td>0.0</td>\n",
       "      <td>0.0</td>\n",
       "      <td>1.0</td>\n",
       "      <td>0.0</td>\n",
       "      <td>0.0</td>\n",
       "      <td>0.0</td>\n",
       "      <td>0.0</td>\n",
       "    </tr>\n",
       "    <tr>\n",
       "      <th>4</th>\n",
       "      <td>100</td>\n",
       "      <td>2</td>\n",
       "      <td>0</td>\n",
       "      <td>2</td>\n",
       "      <td>2</td>\n",
       "      <td>0.0</td>\n",
       "      <td>0</td>\n",
       "      <td>0</td>\n",
       "      <td>0</td>\n",
       "      <td>0</td>\n",
       "      <td>...</td>\n",
       "      <td>0.0</td>\n",
       "      <td>0.0</td>\n",
       "      <td>0.0</td>\n",
       "      <td>0.0</td>\n",
       "      <td>0.0</td>\n",
       "      <td>1.0</td>\n",
       "      <td>0.0</td>\n",
       "      <td>0.0</td>\n",
       "      <td>0.0</td>\n",
       "      <td>0.0</td>\n",
       "    </tr>\n",
       "    <tr>\n",
       "      <th>...</th>\n",
       "      <td>...</td>\n",
       "      <td>...</td>\n",
       "      <td>...</td>\n",
       "      <td>...</td>\n",
       "      <td>...</td>\n",
       "      <td>...</td>\n",
       "      <td>...</td>\n",
       "      <td>...</td>\n",
       "      <td>...</td>\n",
       "      <td>...</td>\n",
       "      <td>...</td>\n",
       "      <td>...</td>\n",
       "      <td>...</td>\n",
       "      <td>...</td>\n",
       "      <td>...</td>\n",
       "      <td>...</td>\n",
       "      <td>...</td>\n",
       "      <td>...</td>\n",
       "      <td>...</td>\n",
       "      <td>...</td>\n",
       "      <td>...</td>\n",
       "    </tr>\n",
       "    <tr>\n",
       "      <th>79325</th>\n",
       "      <td>23</td>\n",
       "      <td>30</td>\n",
       "      <td>2</td>\n",
       "      <td>5</td>\n",
       "      <td>2</td>\n",
       "      <td>0.0</td>\n",
       "      <td>0</td>\n",
       "      <td>0</td>\n",
       "      <td>0</td>\n",
       "      <td>0</td>\n",
       "      <td>...</td>\n",
       "      <td>0.0</td>\n",
       "      <td>0.0</td>\n",
       "      <td>0.0</td>\n",
       "      <td>0.0</td>\n",
       "      <td>0.0</td>\n",
       "      <td>1.0</td>\n",
       "      <td>0.0</td>\n",
       "      <td>0.0</td>\n",
       "      <td>0.0</td>\n",
       "      <td>0.0</td>\n",
       "    </tr>\n",
       "    <tr>\n",
       "      <th>79326</th>\n",
       "      <td>102</td>\n",
       "      <td>31</td>\n",
       "      <td>2</td>\n",
       "      <td>5</td>\n",
       "      <td>3</td>\n",
       "      <td>0.0</td>\n",
       "      <td>0</td>\n",
       "      <td>0</td>\n",
       "      <td>0</td>\n",
       "      <td>0</td>\n",
       "      <td>...</td>\n",
       "      <td>0.0</td>\n",
       "      <td>0.0</td>\n",
       "      <td>0.0</td>\n",
       "      <td>0.0</td>\n",
       "      <td>0.0</td>\n",
       "      <td>1.0</td>\n",
       "      <td>0.0</td>\n",
       "      <td>0.0</td>\n",
       "      <td>0.0</td>\n",
       "      <td>0.0</td>\n",
       "    </tr>\n",
       "    <tr>\n",
       "      <th>79327</th>\n",
       "      <td>34</td>\n",
       "      <td>31</td>\n",
       "      <td>2</td>\n",
       "      <td>5</td>\n",
       "      <td>2</td>\n",
       "      <td>0.0</td>\n",
       "      <td>0</td>\n",
       "      <td>0</td>\n",
       "      <td>0</td>\n",
       "      <td>0</td>\n",
       "      <td>...</td>\n",
       "      <td>0.0</td>\n",
       "      <td>0.0</td>\n",
       "      <td>0.0</td>\n",
       "      <td>0.0</td>\n",
       "      <td>0.0</td>\n",
       "      <td>1.0</td>\n",
       "      <td>0.0</td>\n",
       "      <td>0.0</td>\n",
       "      <td>0.0</td>\n",
       "      <td>0.0</td>\n",
       "    </tr>\n",
       "    <tr>\n",
       "      <th>79328</th>\n",
       "      <td>109</td>\n",
       "      <td>31</td>\n",
       "      <td>2</td>\n",
       "      <td>5</td>\n",
       "      <td>2</td>\n",
       "      <td>0.0</td>\n",
       "      <td>0</td>\n",
       "      <td>0</td>\n",
       "      <td>0</td>\n",
       "      <td>0</td>\n",
       "      <td>...</td>\n",
       "      <td>0.0</td>\n",
       "      <td>0.0</td>\n",
       "      <td>0.0</td>\n",
       "      <td>0.0</td>\n",
       "      <td>0.0</td>\n",
       "      <td>1.0</td>\n",
       "      <td>0.0</td>\n",
       "      <td>0.0</td>\n",
       "      <td>0.0</td>\n",
       "      <td>0.0</td>\n",
       "    </tr>\n",
       "    <tr>\n",
       "      <th>79329</th>\n",
       "      <td>205</td>\n",
       "      <td>29</td>\n",
       "      <td>2</td>\n",
       "      <td>7</td>\n",
       "      <td>2</td>\n",
       "      <td>0.0</td>\n",
       "      <td>0</td>\n",
       "      <td>0</td>\n",
       "      <td>0</td>\n",
       "      <td>0</td>\n",
       "      <td>...</td>\n",
       "      <td>0.0</td>\n",
       "      <td>0.0</td>\n",
       "      <td>0.0</td>\n",
       "      <td>0.0</td>\n",
       "      <td>0.0</td>\n",
       "      <td>1.0</td>\n",
       "      <td>0.0</td>\n",
       "      <td>0.0</td>\n",
       "      <td>0.0</td>\n",
       "      <td>0.0</td>\n",
       "    </tr>\n",
       "  </tbody>\n",
       "</table>\n",
       "<p>79163 rows × 540 columns</p>\n",
       "</div>"
      ],
      "text/plain": [
       "       LeadTime  ArrivalDateDayOfMonth  StaysInWeekendNights  \\\n",
       "0             6                      1                     0   \n",
       "1            88                      1                     0   \n",
       "2            65                      1                     0   \n",
       "3            92                      1                     2   \n",
       "4           100                      2                     0   \n",
       "...         ...                    ...                   ...   \n",
       "79325        23                     30                     2   \n",
       "79326       102                     31                     2   \n",
       "79327        34                     31                     2   \n",
       "79328       109                     31                     2   \n",
       "79329       205                     29                     2   \n",
       "\n",
       "       StaysInWeekNights  Adults  Children  Babies  PreviousCancellations  \\\n",
       "0                      2       1       0.0       0                      0   \n",
       "1                      4       2       0.0       0                      0   \n",
       "2                      4       1       0.0       0                      0   \n",
       "3                      4       2       0.0       0                      0   \n",
       "4                      2       2       0.0       0                      0   \n",
       "...                  ...     ...       ...     ...                    ...   \n",
       "79325                  5       2       0.0       0                      0   \n",
       "79326                  5       3       0.0       0                      0   \n",
       "79327                  5       2       0.0       0                      0   \n",
       "79328                  5       2       0.0       0                      0   \n",
       "79329                  7       2       0.0       0                      0   \n",
       "\n",
       "       PreviousBookingsNotCanceled  BookingChanges  ...  x10_        484  \\\n",
       "0                                0               0  ...              0.0   \n",
       "1                                0               0  ...              0.0   \n",
       "2                                0               0  ...              0.0   \n",
       "3                                0               0  ...              0.0   \n",
       "4                                0               0  ...              0.0   \n",
       "...                            ...             ...  ...              ...   \n",
       "79325                            0               0  ...              0.0   \n",
       "79326                            0               0  ...              0.0   \n",
       "79327                            0               0  ...              0.0   \n",
       "79328                            0               0  ...              0.0   \n",
       "79329                            0               0  ...              0.0   \n",
       "\n",
       "       x10_        495  x10_        509  x10_       0  x11_Group  \\\n",
       "0                  0.0              0.0           0.0        0.0   \n",
       "1                  0.0              0.0           0.0        0.0   \n",
       "2                  0.0              0.0           0.0        0.0   \n",
       "3                  0.0              0.0           0.0        0.0   \n",
       "4                  0.0              0.0           0.0        0.0   \n",
       "...                ...              ...           ...        ...   \n",
       "79325              0.0              0.0           0.0        0.0   \n",
       "79326              0.0              0.0           0.0        0.0   \n",
       "79327              0.0              0.0           0.0        0.0   \n",
       "79328              0.0              0.0           0.0        0.0   \n",
       "79329              0.0              0.0           0.0        0.0   \n",
       "\n",
       "       x11_Transient  x11_Transient-Party  x12_1  x12_2  x12_3  \n",
       "0                1.0                  0.0    0.0    0.0    0.0  \n",
       "1                1.0                  0.0    0.0    0.0    0.0  \n",
       "2                1.0                  0.0    0.0    0.0    0.0  \n",
       "3                1.0                  0.0    0.0    0.0    0.0  \n",
       "4                1.0                  0.0    0.0    0.0    0.0  \n",
       "...              ...                  ...    ...    ...    ...  \n",
       "79325            1.0                  0.0    0.0    0.0    0.0  \n",
       "79326            1.0                  0.0    0.0    0.0    0.0  \n",
       "79327            1.0                  0.0    0.0    0.0    0.0  \n",
       "79328            1.0                  0.0    0.0    0.0    0.0  \n",
       "79329            1.0                  0.0    0.0    0.0    0.0  \n",
       "\n",
       "[79163 rows x 540 columns]"
      ]
     },
     "execution_count": 49,
     "metadata": {},
     "output_type": "execute_result"
    }
   ],
   "source": [
    "datafe"
   ]
  },
  {
   "cell_type": "code",
   "execution_count": null,
   "metadata": {},
   "outputs": [],
   "source": []
  }
 ],
 "metadata": {
  "kernelspec": {
   "display_name": "Python 3",
   "language": "python",
   "name": "python3"
  },
  "language_info": {
   "codemirror_mode": {
    "name": "ipython",
    "version": 3
   },
   "file_extension": ".py",
   "mimetype": "text/x-python",
   "name": "python",
   "nbconvert_exporter": "python",
   "pygments_lexer": "ipython3",
   "version": "3.8.5"
  }
 },
 "nbformat": 4,
 "nbformat_minor": 4
}
