{
 "cells": [
  {
   "cell_type": "code",
   "execution_count": 20,
   "metadata": {},
   "outputs": [
    {
     "name": "stdout",
     "output_type": "stream",
     "text": [
      "Collecting calmap\n",
      "  Downloading calmap-0.0.8-py2.py3-none-any.whl (6.7 kB)\n",
      "Requirement already satisfied: numpy in c:\\users\\gonca\\anaconda3\\lib\\site-packages (from calmap) (1.18.5)\n",
      "Requirement already satisfied: matplotlib in c:\\users\\gonca\\anaconda3\\lib\\site-packages (from calmap) (3.2.2)\n",
      "Requirement already satisfied: pandas in c:\\users\\gonca\\anaconda3\\lib\\site-packages (from calmap) (1.0.5)\n",
      "Requirement already satisfied: kiwisolver>=1.0.1 in c:\\users\\gonca\\anaconda3\\lib\\site-packages (from matplotlib->calmap) (1.2.0)\n",
      "Requirement already satisfied: python-dateutil>=2.1 in c:\\users\\gonca\\anaconda3\\lib\\site-packages (from matplotlib->calmap) (2.8.1)\n",
      "Requirement already satisfied: pyparsing!=2.0.4,!=2.1.2,!=2.1.6,>=2.0.1 in c:\\users\\gonca\\anaconda3\\lib\\site-packages (from matplotlib->calmap) (2.4.7)\n",
      "Requirement already satisfied: cycler>=0.10 in c:\\users\\gonca\\anaconda3\\lib\\site-packages (from matplotlib->calmap) (0.10.0)\n",
      "Requirement already satisfied: pytz>=2017.2 in c:\\users\\gonca\\anaconda3\\lib\\site-packages (from pandas->calmap) (2020.1)\n",
      "Requirement already satisfied: six>=1.5 in c:\\users\\gonca\\anaconda3\\lib\\site-packages (from python-dateutil>=2.1->matplotlib->calmap) (1.15.0)\n",
      "Installing collected packages: calmap\n",
      "Successfully installed calmap-0.0.8\n"
     ]
    },
    {
     "name": "stderr",
     "output_type": "stream",
     "text": [
      "WARNING: You are using pip version 20.2.4; however, version 21.0.1 is available.\n",
      "You should consider upgrading via the 'C:\\Users\\gonca\\anaconda3\\python.exe -m pip install --upgrade pip' command.\n"
     ]
    }
   ],
   "source": [
    "#!pip install calmap"
   ]
  },
  {
   "cell_type": "code",
   "execution_count": 3,
   "metadata": {},
   "outputs": [],
   "source": [
    "import pandas as pd\n",
    "import numpy as np\n",
    "import seaborn as sns\n",
    "import matplotlib.pyplot as plt\n",
    "from datetime import datetime\n",
    "from sklearn.model_selection import train_test_split\n",
    "from sklearn.linear_model import LassoCV, RidgeCV, LogisticRegression, LinearRegression\n",
    "from sklearn.feature_selection import RFE\n",
    "from sklearn.preprocessing import MinMaxScaler, StandardScaler, OneHotEncoder, RobustScaler, LabelEncoder\n",
    "from sklearn.tree import DecisionTreeClassifier\n",
    "from datetime import datetime\n",
    "import calmap\n",
    "import warnings\n",
    "warnings.filterwarnings('ignore')"
   ]
  },
  {
   "cell_type": "markdown",
   "metadata": {},
   "source": [
    "### Functions"
   ]
  },
  {
   "cell_type": "code",
   "execution_count": 4,
   "metadata": {},
   "outputs": [],
   "source": [
    "def find_missing(df):\n",
    "    missing_col = df.columns[df.isna().sum()>0]\n",
    "    col_missing_val = df[missing_col].isna().sum().sort_values(ascending=False)\n",
    "    per_missing_val = (df[missing_col].isna().sum()/df.shape[0]*100).sort_values(ascending=False)\n",
    "    missing_df = pd.DataFrame(col_missing_val,columns=['missing_number'])\n",
    "    missing_df['missing_percentage']=per_missing_val\n",
    "    print('Number of columns with missing data:',missing_df.shape[0])\n",
    "    return missing_df"
   ]
  },
  {
   "cell_type": "markdown",
   "metadata": {},
   "source": [
    "## Load and first analysis of the dataset"
   ]
  },
  {
   "cell_type": "code",
   "execution_count": 159,
   "metadata": {
    "scrolled": true
   },
   "outputs": [
    {
     "data": {
      "text/html": [
       "<div>\n",
       "<style scoped>\n",
       "    .dataframe tbody tr th:only-of-type {\n",
       "        vertical-align: middle;\n",
       "    }\n",
       "\n",
       "    .dataframe tbody tr th {\n",
       "        vertical-align: top;\n",
       "    }\n",
       "\n",
       "    .dataframe thead th {\n",
       "        text-align: right;\n",
       "    }\n",
       "</style>\n",
       "<table border=\"1\" class=\"dataframe\">\n",
       "  <thead>\n",
       "    <tr style=\"text-align: right;\">\n",
       "      <th></th>\n",
       "      <th>IsCanceled</th>\n",
       "      <th>LeadTime</th>\n",
       "      <th>ArrivalDateYear</th>\n",
       "      <th>ArrivalDateMonth</th>\n",
       "      <th>ArrivalDateWeekNumber</th>\n",
       "      <th>ArrivalDateDayOfMonth</th>\n",
       "      <th>StaysInWeekendNights</th>\n",
       "      <th>StaysInWeekNights</th>\n",
       "      <th>Adults</th>\n",
       "      <th>Children</th>\n",
       "      <th>...</th>\n",
       "      <th>DepositType</th>\n",
       "      <th>Agent</th>\n",
       "      <th>Company</th>\n",
       "      <th>DaysInWaitingList</th>\n",
       "      <th>CustomerType</th>\n",
       "      <th>ADR</th>\n",
       "      <th>RequiredCarParkingSpaces</th>\n",
       "      <th>TotalOfSpecialRequests</th>\n",
       "      <th>ReservationStatus</th>\n",
       "      <th>ReservationStatusDate</th>\n",
       "    </tr>\n",
       "  </thead>\n",
       "  <tbody>\n",
       "    <tr>\n",
       "      <th>0</th>\n",
       "      <td>0</td>\n",
       "      <td>6</td>\n",
       "      <td>2015</td>\n",
       "      <td>July</td>\n",
       "      <td>27</td>\n",
       "      <td>1</td>\n",
       "      <td>0</td>\n",
       "      <td>2</td>\n",
       "      <td>1</td>\n",
       "      <td>0.0</td>\n",
       "      <td>...</td>\n",
       "      <td>No Deposit</td>\n",
       "      <td>6</td>\n",
       "      <td>NULL</td>\n",
       "      <td>0</td>\n",
       "      <td>Transient</td>\n",
       "      <td>0.0</td>\n",
       "      <td>0</td>\n",
       "      <td>0</td>\n",
       "      <td>Check-Out</td>\n",
       "      <td>2015-07-03</td>\n",
       "    </tr>\n",
       "    <tr>\n",
       "      <th>1</th>\n",
       "      <td>1</td>\n",
       "      <td>88</td>\n",
       "      <td>2015</td>\n",
       "      <td>July</td>\n",
       "      <td>27</td>\n",
       "      <td>1</td>\n",
       "      <td>0</td>\n",
       "      <td>4</td>\n",
       "      <td>2</td>\n",
       "      <td>0.0</td>\n",
       "      <td>...</td>\n",
       "      <td>No Deposit</td>\n",
       "      <td>9</td>\n",
       "      <td>NULL</td>\n",
       "      <td>0</td>\n",
       "      <td>Transient</td>\n",
       "      <td>76.5</td>\n",
       "      <td>0</td>\n",
       "      <td>1</td>\n",
       "      <td>Canceled</td>\n",
       "      <td>2015-07-01</td>\n",
       "    </tr>\n",
       "    <tr>\n",
       "      <th>2</th>\n",
       "      <td>1</td>\n",
       "      <td>65</td>\n",
       "      <td>2015</td>\n",
       "      <td>July</td>\n",
       "      <td>27</td>\n",
       "      <td>1</td>\n",
       "      <td>0</td>\n",
       "      <td>4</td>\n",
       "      <td>1</td>\n",
       "      <td>0.0</td>\n",
       "      <td>...</td>\n",
       "      <td>No Deposit</td>\n",
       "      <td>9</td>\n",
       "      <td>NULL</td>\n",
       "      <td>0</td>\n",
       "      <td>Transient</td>\n",
       "      <td>68.0</td>\n",
       "      <td>0</td>\n",
       "      <td>1</td>\n",
       "      <td>Canceled</td>\n",
       "      <td>2015-04-30</td>\n",
       "    </tr>\n",
       "    <tr>\n",
       "      <th>3</th>\n",
       "      <td>1</td>\n",
       "      <td>92</td>\n",
       "      <td>2015</td>\n",
       "      <td>July</td>\n",
       "      <td>27</td>\n",
       "      <td>1</td>\n",
       "      <td>2</td>\n",
       "      <td>4</td>\n",
       "      <td>2</td>\n",
       "      <td>0.0</td>\n",
       "      <td>...</td>\n",
       "      <td>No Deposit</td>\n",
       "      <td>9</td>\n",
       "      <td>NULL</td>\n",
       "      <td>0</td>\n",
       "      <td>Transient</td>\n",
       "      <td>76.5</td>\n",
       "      <td>0</td>\n",
       "      <td>2</td>\n",
       "      <td>Canceled</td>\n",
       "      <td>2015-06-23</td>\n",
       "    </tr>\n",
       "    <tr>\n",
       "      <th>4</th>\n",
       "      <td>1</td>\n",
       "      <td>100</td>\n",
       "      <td>2015</td>\n",
       "      <td>July</td>\n",
       "      <td>27</td>\n",
       "      <td>2</td>\n",
       "      <td>0</td>\n",
       "      <td>2</td>\n",
       "      <td>2</td>\n",
       "      <td>0.0</td>\n",
       "      <td>...</td>\n",
       "      <td>No Deposit</td>\n",
       "      <td>9</td>\n",
       "      <td>NULL</td>\n",
       "      <td>0</td>\n",
       "      <td>Transient</td>\n",
       "      <td>76.5</td>\n",
       "      <td>0</td>\n",
       "      <td>1</td>\n",
       "      <td>Canceled</td>\n",
       "      <td>2015-04-02</td>\n",
       "    </tr>\n",
       "  </tbody>\n",
       "</table>\n",
       "<p>5 rows × 31 columns</p>\n",
       "</div>"
      ],
      "text/plain": [
       "   IsCanceled  LeadTime  ArrivalDateYear ArrivalDateMonth  \\\n",
       "0           0         6             2015             July   \n",
       "1           1        88             2015             July   \n",
       "2           1        65             2015             July   \n",
       "3           1        92             2015             July   \n",
       "4           1       100             2015             July   \n",
       "\n",
       "   ArrivalDateWeekNumber  ArrivalDateDayOfMonth  StaysInWeekendNights  \\\n",
       "0                     27                      1                     0   \n",
       "1                     27                      1                     0   \n",
       "2                     27                      1                     0   \n",
       "3                     27                      1                     2   \n",
       "4                     27                      2                     0   \n",
       "\n",
       "   StaysInWeekNights  Adults  Children  ...      DepositType        Agent  \\\n",
       "0                  2       1       0.0  ...  No Deposit                 6   \n",
       "1                  4       2       0.0  ...  No Deposit                 9   \n",
       "2                  4       1       0.0  ...  No Deposit                 9   \n",
       "3                  4       2       0.0  ...  No Deposit                 9   \n",
       "4                  2       2       0.0  ...  No Deposit                 9   \n",
       "\n",
       "       Company DaysInWaitingList CustomerType   ADR  RequiredCarParkingSpaces  \\\n",
       "0         NULL                 0    Transient   0.0                         0   \n",
       "1         NULL                 0    Transient  76.5                         0   \n",
       "2         NULL                 0    Transient  68.0                         0   \n",
       "3         NULL                 0    Transient  76.5                         0   \n",
       "4         NULL                 0    Transient  76.5                         0   \n",
       "\n",
       "   TotalOfSpecialRequests ReservationStatus ReservationStatusDate  \n",
       "0                       0         Check-Out            2015-07-03  \n",
       "1                       1          Canceled            2015-07-01  \n",
       "2                       1          Canceled            2015-04-30  \n",
       "3                       2          Canceled            2015-06-23  \n",
       "4                       1          Canceled            2015-04-02  \n",
       "\n",
       "[5 rows x 31 columns]"
      ]
     },
     "execution_count": 159,
     "metadata": {},
     "output_type": "execute_result"
    }
   ],
   "source": [
    "#loading the Bookings dataset\n",
    "data = pd.read_csv(r'C:\\Users\\gonca\\Documents\\BC2_Predict_Cancellations\\data\\H2.csv') \n",
    "data.head()"
   ]
  },
  {
   "cell_type": "code",
   "execution_count": 160,
   "metadata": {},
   "outputs": [
    {
     "name": "stdout",
     "output_type": "stream",
     "text": [
      "<class 'pandas.core.frame.DataFrame'>\n",
      "RangeIndex: 79330 entries, 0 to 79329\n",
      "Data columns (total 31 columns):\n",
      " #   Column                       Non-Null Count  Dtype  \n",
      "---  ------                       --------------  -----  \n",
      " 0   IsCanceled                   79330 non-null  int64  \n",
      " 1   LeadTime                     79330 non-null  int64  \n",
      " 2   ArrivalDateYear              79330 non-null  int64  \n",
      " 3   ArrivalDateMonth             79330 non-null  object \n",
      " 4   ArrivalDateWeekNumber        79330 non-null  int64  \n",
      " 5   ArrivalDateDayOfMonth        79330 non-null  int64  \n",
      " 6   StaysInWeekendNights         79330 non-null  int64  \n",
      " 7   StaysInWeekNights            79330 non-null  int64  \n",
      " 8   Adults                       79330 non-null  int64  \n",
      " 9   Children                     79326 non-null  float64\n",
      " 10  Babies                       79330 non-null  int64  \n",
      " 11  Meal                         79330 non-null  object \n",
      " 12  Country                      79306 non-null  object \n",
      " 13  MarketSegment                79330 non-null  object \n",
      " 14  DistributionChannel          79330 non-null  object \n",
      " 15  IsRepeatedGuest              79330 non-null  int64  \n",
      " 16  PreviousCancellations        79330 non-null  int64  \n",
      " 17  PreviousBookingsNotCanceled  79330 non-null  int64  \n",
      " 18  ReservedRoomType             79330 non-null  object \n",
      " 19  AssignedRoomType             79330 non-null  object \n",
      " 20  BookingChanges               79330 non-null  int64  \n",
      " 21  DepositType                  79330 non-null  object \n",
      " 22  Agent                        79330 non-null  object \n",
      " 23  Company                      79330 non-null  object \n",
      " 24  DaysInWaitingList            79330 non-null  int64  \n",
      " 25  CustomerType                 79330 non-null  object \n",
      " 26  ADR                          79330 non-null  float64\n",
      " 27  RequiredCarParkingSpaces     79330 non-null  int64  \n",
      " 28  TotalOfSpecialRequests       79330 non-null  int64  \n",
      " 29  ReservationStatus            79330 non-null  object \n",
      " 30  ReservationStatusDate        79330 non-null  object \n",
      "dtypes: float64(2), int64(16), object(13)\n",
      "memory usage: 18.8+ MB\n"
     ]
    }
   ],
   "source": [
    "data.info()"
   ]
  },
  {
   "cell_type": "code",
   "execution_count": 161,
   "metadata": {},
   "outputs": [],
   "source": [
    "#Country shouldn't be used for analysis as its quality is dependent on chek-in\n",
    "data = data.drop(['Country'], axis=1)"
   ]
  },
  {
   "cell_type": "code",
   "execution_count": 162,
   "metadata": {},
   "outputs": [
    {
     "data": {
      "text/plain": [
       "27294"
      ]
     },
     "execution_count": 162,
     "metadata": {},
     "output_type": "execute_result"
    }
   ],
   "source": [
    "# Cheecking for duplicates\n",
    "data.duplicated().sum()\n"
   ]
  },
  {
   "cell_type": "markdown",
   "metadata": {},
   "source": [
    "The dataset that we are using had already some pre-procecing with some imputations, so after analysing the data we conclude that the duplicated values are coicidences and not real duplicated enteries "
   ]
  },
  {
   "cell_type": "code",
   "execution_count": 163,
   "metadata": {},
   "outputs": [
    {
     "name": "stdout",
     "output_type": "stream",
     "text": [
      "Number of columns with missing data: 1\n"
     ]
    },
    {
     "data": {
      "text/html": [
       "<div>\n",
       "<style scoped>\n",
       "    .dataframe tbody tr th:only-of-type {\n",
       "        vertical-align: middle;\n",
       "    }\n",
       "\n",
       "    .dataframe tbody tr th {\n",
       "        vertical-align: top;\n",
       "    }\n",
       "\n",
       "    .dataframe thead th {\n",
       "        text-align: right;\n",
       "    }\n",
       "</style>\n",
       "<table border=\"1\" class=\"dataframe\">\n",
       "  <thead>\n",
       "    <tr style=\"text-align: right;\">\n",
       "      <th></th>\n",
       "      <th>missing_number</th>\n",
       "      <th>missing_percentage</th>\n",
       "    </tr>\n",
       "  </thead>\n",
       "  <tbody>\n",
       "    <tr>\n",
       "      <th>Children</th>\n",
       "      <td>4</td>\n",
       "      <td>0.005042</td>\n",
       "    </tr>\n",
       "  </tbody>\n",
       "</table>\n",
       "</div>"
      ],
      "text/plain": [
       "          missing_number  missing_percentage\n",
       "Children               4            0.005042"
      ]
     },
     "execution_count": 163,
     "metadata": {},
     "output_type": "execute_result"
    }
   ],
   "source": [
    "find_missing(data)"
   ]
  },
  {
   "cell_type": "markdown",
   "metadata": {},
   "source": [
    "We"
   ]
  },
  {
   "cell_type": "code",
   "execution_count": 164,
   "metadata": {},
   "outputs": [],
   "source": [
    "\n",
    "data.fillna(0, inplace =True)"
   ]
  },
  {
   "cell_type": "code",
   "execution_count": 165,
   "metadata": {},
   "outputs": [
    {
     "name": "stdout",
     "output_type": "stream",
     "text": [
      "Number of columns with missing data: 0\n"
     ]
    },
    {
     "data": {
      "text/html": [
       "<div>\n",
       "<style scoped>\n",
       "    .dataframe tbody tr th:only-of-type {\n",
       "        vertical-align: middle;\n",
       "    }\n",
       "\n",
       "    .dataframe tbody tr th {\n",
       "        vertical-align: top;\n",
       "    }\n",
       "\n",
       "    .dataframe thead th {\n",
       "        text-align: right;\n",
       "    }\n",
       "</style>\n",
       "<table border=\"1\" class=\"dataframe\">\n",
       "  <thead>\n",
       "    <tr style=\"text-align: right;\">\n",
       "      <th></th>\n",
       "      <th>missing_number</th>\n",
       "      <th>missing_percentage</th>\n",
       "    </tr>\n",
       "  </thead>\n",
       "  <tbody>\n",
       "  </tbody>\n",
       "</table>\n",
       "</div>"
      ],
      "text/plain": [
       "Empty DataFrame\n",
       "Columns: [missing_number, missing_percentage]\n",
       "Index: []"
      ]
     },
     "execution_count": 165,
     "metadata": {},
     "output_type": "execute_result"
    }
   ],
   "source": [
    "find_missing(data)"
   ]
  },
  {
   "cell_type": "code",
   "execution_count": 20,
   "metadata": {},
   "outputs": [
    {
     "name": "stdout",
     "output_type": "stream",
     "text": [
      "33102 canceled\n",
      "46228 not canceled\n"
     ]
    }
   ],
   "source": [
    "Cancelations = data['IsCanceled'].tolist()\n",
    "print(Cancelations.count(1), 'canceled')\n",
    "print(Cancelations.count(0), 'not canceled')"
   ]
  },
  {
   "cell_type": "code",
   "execution_count": 22,
   "metadata": {},
   "outputs": [
    {
     "data": {
      "image/png": "[encoded data removed]",
      "text/plain": [
       "<Figure size 432x288 with 1 Axes>"
      ]
     },
     "metadata": {
      "needs_background": "light"
     },
     "output_type": "display_data"
    }
   ],
   "source": [
    "sns.countplot('DepositType', data=data)\n",
    "plt.title('Deposit Type')\n",
    "plt.yscale(\"log\")"
   ]
  },
  {
   "cell_type": "code",
   "execution_count": 23,
   "metadata": {},
   "outputs": [
    {
     "data": {
      "image/png": "[encoded data removed]",
      "text/plain": [
       "<Figure size 432x288 with 1 Axes>"
      ]
     },
     "metadata": {
      "needs_background": "light"
     },
     "output_type": "display_data"
    }
   ],
   "source": [
    "sns.countplot('ReservedRoomType', data=data)\n",
    "plt.title('Room Type')\n",
    "plt.yscale(\"log\")"
   ]
  },
  {
   "cell_type": "code",
   "execution_count": 24,
   "metadata": {},
   "outputs": [
    {
     "data": {
      "image/png": "[encoded data removed]",
      "text/plain": [
       "<Figure size 432x288 with 1 Axes>"
      ]
     },
     "metadata": {
      "needs_background": "light"
     },
     "output_type": "display_data"
    }
   ],
   "source": [
    "sns.countplot('AssignedRoomType', data=data)\n",
    "plt.title('Room Type')\n",
    "plt.yscale(\"log\")"
   ]
  },
  {
   "cell_type": "code",
   "execution_count": 25,
   "metadata": {},
   "outputs": [
    {
     "data": {
      "image/png": "[encoded data removed]",
      "text/plain": [
       "<Figure size 432x288 with 1 Axes>"
      ]
     },
     "metadata": {
      "needs_background": "light"
     },
     "output_type": "display_data"
    }
   ],
   "source": [
    "sns.countplot('PreviousCancellations', data=data)\n",
    "plt.title('Number of cancelations of each client')\n",
    "plt.yscale(\"log\")"
   ]
  },
  {
   "cell_type": "markdown",
   "metadata": {},
   "source": [
    "### Feature Engeneering"
   ]
  },
  {
   "cell_type": "code",
   "execution_count": 166,
   "metadata": {},
   "outputs": [],
   "source": [
    "data['changeroomtype'] = data['AssignedRoomType'] != data['ReservedRoomType']"
   ]
  },
  {
   "cell_type": "code",
   "execution_count": 167,
   "metadata": {},
   "outputs": [
    {
     "data": {
      "text/html": [
       "<div>\n",
       "<style scoped>\n",
       "    .dataframe tbody tr th:only-of-type {\n",
       "        vertical-align: middle;\n",
       "    }\n",
       "\n",
       "    .dataframe tbody tr th {\n",
       "        vertical-align: top;\n",
       "    }\n",
       "\n",
       "    .dataframe thead th {\n",
       "        text-align: right;\n",
       "    }\n",
       "</style>\n",
       "<table border=\"1\" class=\"dataframe\">\n",
       "  <thead>\n",
       "    <tr style=\"text-align: right;\">\n",
       "      <th></th>\n",
       "      <th>IsCanceled</th>\n",
       "      <th>LeadTime</th>\n",
       "      <th>ArrivalDateYear</th>\n",
       "      <th>ArrivalDateMonth</th>\n",
       "      <th>ArrivalDateWeekNumber</th>\n",
       "      <th>ArrivalDateDayOfMonth</th>\n",
       "      <th>StaysInWeekendNights</th>\n",
       "      <th>StaysInWeekNights</th>\n",
       "      <th>Adults</th>\n",
       "      <th>Children</th>\n",
       "      <th>...</th>\n",
       "      <th>Agent</th>\n",
       "      <th>Company</th>\n",
       "      <th>DaysInWaitingList</th>\n",
       "      <th>CustomerType</th>\n",
       "      <th>ADR</th>\n",
       "      <th>RequiredCarParkingSpaces</th>\n",
       "      <th>TotalOfSpecialRequests</th>\n",
       "      <th>ReservationStatus</th>\n",
       "      <th>ReservationStatusDate</th>\n",
       "      <th>changeroomtype</th>\n",
       "    </tr>\n",
       "  </thead>\n",
       "  <tbody>\n",
       "    <tr>\n",
       "      <th>134</th>\n",
       "      <td>1</td>\n",
       "      <td>0</td>\n",
       "      <td>2015</td>\n",
       "      <td>July</td>\n",
       "      <td>29</td>\n",
       "      <td>15</td>\n",
       "      <td>0</td>\n",
       "      <td>1</td>\n",
       "      <td>2</td>\n",
       "      <td>0.0</td>\n",
       "      <td>...</td>\n",
       "      <td>NULL</td>\n",
       "      <td>NULL</td>\n",
       "      <td>0</td>\n",
       "      <td>Transient</td>\n",
       "      <td>0.00</td>\n",
       "      <td>0</td>\n",
       "      <td>0</td>\n",
       "      <td>Canceled</td>\n",
       "      <td>2015-07-15</td>\n",
       "      <td>True</td>\n",
       "    </tr>\n",
       "    <tr>\n",
       "      <th>139</th>\n",
       "      <td>0</td>\n",
       "      <td>0</td>\n",
       "      <td>2015</td>\n",
       "      <td>July</td>\n",
       "      <td>29</td>\n",
       "      <td>15</td>\n",
       "      <td>2</td>\n",
       "      <td>5</td>\n",
       "      <td>2</td>\n",
       "      <td>0.0</td>\n",
       "      <td>...</td>\n",
       "      <td>NULL</td>\n",
       "      <td>NULL</td>\n",
       "      <td>0</td>\n",
       "      <td>Transient</td>\n",
       "      <td>0.00</td>\n",
       "      <td>0</td>\n",
       "      <td>0</td>\n",
       "      <td>Check-Out</td>\n",
       "      <td>2015-07-22</td>\n",
       "      <td>True</td>\n",
       "    </tr>\n",
       "    <tr>\n",
       "      <th>237</th>\n",
       "      <td>0</td>\n",
       "      <td>20</td>\n",
       "      <td>2015</td>\n",
       "      <td>July</td>\n",
       "      <td>30</td>\n",
       "      <td>22</td>\n",
       "      <td>0</td>\n",
       "      <td>2</td>\n",
       "      <td>2</td>\n",
       "      <td>0.0</td>\n",
       "      <td>...</td>\n",
       "      <td>1</td>\n",
       "      <td>NULL</td>\n",
       "      <td>0</td>\n",
       "      <td>Transient-Party</td>\n",
       "      <td>62.00</td>\n",
       "      <td>0</td>\n",
       "      <td>0</td>\n",
       "      <td>Check-Out</td>\n",
       "      <td>2015-07-24</td>\n",
       "      <td>True</td>\n",
       "    </tr>\n",
       "    <tr>\n",
       "      <th>250</th>\n",
       "      <td>0</td>\n",
       "      <td>20</td>\n",
       "      <td>2015</td>\n",
       "      <td>July</td>\n",
       "      <td>30</td>\n",
       "      <td>22</td>\n",
       "      <td>0</td>\n",
       "      <td>2</td>\n",
       "      <td>2</td>\n",
       "      <td>0.0</td>\n",
       "      <td>...</td>\n",
       "      <td>1</td>\n",
       "      <td>NULL</td>\n",
       "      <td>0</td>\n",
       "      <td>Transient-Party</td>\n",
       "      <td>62.00</td>\n",
       "      <td>0</td>\n",
       "      <td>0</td>\n",
       "      <td>Check-Out</td>\n",
       "      <td>2015-07-24</td>\n",
       "      <td>True</td>\n",
       "    </tr>\n",
       "    <tr>\n",
       "      <th>253</th>\n",
       "      <td>0</td>\n",
       "      <td>20</td>\n",
       "      <td>2015</td>\n",
       "      <td>July</td>\n",
       "      <td>30</td>\n",
       "      <td>22</td>\n",
       "      <td>0</td>\n",
       "      <td>2</td>\n",
       "      <td>2</td>\n",
       "      <td>0.0</td>\n",
       "      <td>...</td>\n",
       "      <td>1</td>\n",
       "      <td>NULL</td>\n",
       "      <td>0</td>\n",
       "      <td>Transient-Party</td>\n",
       "      <td>62.00</td>\n",
       "      <td>0</td>\n",
       "      <td>0</td>\n",
       "      <td>Check-Out</td>\n",
       "      <td>2015-07-24</td>\n",
       "      <td>True</td>\n",
       "    </tr>\n",
       "    <tr>\n",
       "      <th>...</th>\n",
       "      <td>...</td>\n",
       "      <td>...</td>\n",
       "      <td>...</td>\n",
       "      <td>...</td>\n",
       "      <td>...</td>\n",
       "      <td>...</td>\n",
       "      <td>...</td>\n",
       "      <td>...</td>\n",
       "      <td>...</td>\n",
       "      <td>...</td>\n",
       "      <td>...</td>\n",
       "      <td>...</td>\n",
       "      <td>...</td>\n",
       "      <td>...</td>\n",
       "      <td>...</td>\n",
       "      <td>...</td>\n",
       "      <td>...</td>\n",
       "      <td>...</td>\n",
       "      <td>...</td>\n",
       "      <td>...</td>\n",
       "      <td>...</td>\n",
       "    </tr>\n",
       "    <tr>\n",
       "      <th>79213</th>\n",
       "      <td>0</td>\n",
       "      <td>213</td>\n",
       "      <td>2017</td>\n",
       "      <td>August</td>\n",
       "      <td>35</td>\n",
       "      <td>28</td>\n",
       "      <td>1</td>\n",
       "      <td>3</td>\n",
       "      <td>1</td>\n",
       "      <td>0.0</td>\n",
       "      <td>...</td>\n",
       "      <td>19</td>\n",
       "      <td>NULL</td>\n",
       "      <td>0</td>\n",
       "      <td>Transient-Party</td>\n",
       "      <td>104.00</td>\n",
       "      <td>0</td>\n",
       "      <td>0</td>\n",
       "      <td>Check-Out</td>\n",
       "      <td>2017-09-01</td>\n",
       "      <td>True</td>\n",
       "    </tr>\n",
       "    <tr>\n",
       "      <th>79214</th>\n",
       "      <td>0</td>\n",
       "      <td>213</td>\n",
       "      <td>2017</td>\n",
       "      <td>August</td>\n",
       "      <td>35</td>\n",
       "      <td>28</td>\n",
       "      <td>1</td>\n",
       "      <td>3</td>\n",
       "      <td>1</td>\n",
       "      <td>0.0</td>\n",
       "      <td>...</td>\n",
       "      <td>19</td>\n",
       "      <td>NULL</td>\n",
       "      <td>0</td>\n",
       "      <td>Transient-Party</td>\n",
       "      <td>104.00</td>\n",
       "      <td>0</td>\n",
       "      <td>0</td>\n",
       "      <td>Check-Out</td>\n",
       "      <td>2017-09-01</td>\n",
       "      <td>True</td>\n",
       "    </tr>\n",
       "    <tr>\n",
       "      <th>79229</th>\n",
       "      <td>0</td>\n",
       "      <td>25</td>\n",
       "      <td>2017</td>\n",
       "      <td>August</td>\n",
       "      <td>35</td>\n",
       "      <td>30</td>\n",
       "      <td>0</td>\n",
       "      <td>3</td>\n",
       "      <td>3</td>\n",
       "      <td>0.0</td>\n",
       "      <td>...</td>\n",
       "      <td>9</td>\n",
       "      <td>NULL</td>\n",
       "      <td>0</td>\n",
       "      <td>Transient</td>\n",
       "      <td>236.33</td>\n",
       "      <td>0</td>\n",
       "      <td>3</td>\n",
       "      <td>Check-Out</td>\n",
       "      <td>2017-09-02</td>\n",
       "      <td>True</td>\n",
       "    </tr>\n",
       "    <tr>\n",
       "      <th>79237</th>\n",
       "      <td>0</td>\n",
       "      <td>332</td>\n",
       "      <td>2017</td>\n",
       "      <td>August</td>\n",
       "      <td>35</td>\n",
       "      <td>31</td>\n",
       "      <td>0</td>\n",
       "      <td>2</td>\n",
       "      <td>2</td>\n",
       "      <td>0.0</td>\n",
       "      <td>...</td>\n",
       "      <td>9</td>\n",
       "      <td>NULL</td>\n",
       "      <td>0</td>\n",
       "      <td>Transient</td>\n",
       "      <td>170.80</td>\n",
       "      <td>0</td>\n",
       "      <td>2</td>\n",
       "      <td>Check-Out</td>\n",
       "      <td>2017-09-02</td>\n",
       "      <td>True</td>\n",
       "    </tr>\n",
       "    <tr>\n",
       "      <th>79297</th>\n",
       "      <td>0</td>\n",
       "      <td>47</td>\n",
       "      <td>2017</td>\n",
       "      <td>August</td>\n",
       "      <td>35</td>\n",
       "      <td>31</td>\n",
       "      <td>1</td>\n",
       "      <td>3</td>\n",
       "      <td>1</td>\n",
       "      <td>0.0</td>\n",
       "      <td>...</td>\n",
       "      <td>423</td>\n",
       "      <td>NULL</td>\n",
       "      <td>0</td>\n",
       "      <td>Transient</td>\n",
       "      <td>91.02</td>\n",
       "      <td>0</td>\n",
       "      <td>0</td>\n",
       "      <td>Check-Out</td>\n",
       "      <td>2017-09-04</td>\n",
       "      <td>True</td>\n",
       "    </tr>\n",
       "  </tbody>\n",
       "</table>\n",
       "<p>7192 rows × 31 columns</p>\n",
       "</div>"
      ],
      "text/plain": [
       "       IsCanceled  LeadTime  ArrivalDateYear ArrivalDateMonth  \\\n",
       "134             1         0             2015             July   \n",
       "139             0         0             2015             July   \n",
       "237             0        20             2015             July   \n",
       "250             0        20             2015             July   \n",
       "253             0        20             2015             July   \n",
       "...           ...       ...              ...              ...   \n",
       "79213           0       213             2017           August   \n",
       "79214           0       213             2017           August   \n",
       "79229           0        25             2017           August   \n",
       "79237           0       332             2017           August   \n",
       "79297           0        47             2017           August   \n",
       "\n",
       "       ArrivalDateWeekNumber  ArrivalDateDayOfMonth  StaysInWeekendNights  \\\n",
       "134                       29                     15                     0   \n",
       "139                       29                     15                     2   \n",
       "237                       30                     22                     0   \n",
       "250                       30                     22                     0   \n",
       "253                       30                     22                     0   \n",
       "...                      ...                    ...                   ...   \n",
       "79213                     35                     28                     1   \n",
       "79214                     35                     28                     1   \n",
       "79229                     35                     30                     0   \n",
       "79237                     35                     31                     0   \n",
       "79297                     35                     31                     1   \n",
       "\n",
       "       StaysInWeekNights  Adults  Children  ...        Agent      Company  \\\n",
       "134                    1       2       0.0  ...         NULL         NULL   \n",
       "139                    5       2       0.0  ...         NULL         NULL   \n",
       "237                    2       2       0.0  ...            1         NULL   \n",
       "250                    2       2       0.0  ...            1         NULL   \n",
       "253                    2       2       0.0  ...            1         NULL   \n",
       "...                  ...     ...       ...  ...          ...          ...   \n",
       "79213                  3       1       0.0  ...           19         NULL   \n",
       "79214                  3       1       0.0  ...           19         NULL   \n",
       "79229                  3       3       0.0  ...            9         NULL   \n",
       "79237                  2       2       0.0  ...            9         NULL   \n",
       "79297                  3       1       0.0  ...          423         NULL   \n",
       "\n",
       "      DaysInWaitingList     CustomerType     ADR  RequiredCarParkingSpaces  \\\n",
       "134                   0        Transient    0.00                         0   \n",
       "139                   0        Transient    0.00                         0   \n",
       "237                   0  Transient-Party   62.00                         0   \n",
       "250                   0  Transient-Party   62.00                         0   \n",
       "253                   0  Transient-Party   62.00                         0   \n",
       "...                 ...              ...     ...                       ...   \n",
       "79213                 0  Transient-Party  104.00                         0   \n",
       "79214                 0  Transient-Party  104.00                         0   \n",
       "79229                 0        Transient  236.33                         0   \n",
       "79237                 0        Transient  170.80                         0   \n",
       "79297                 0        Transient   91.02                         0   \n",
       "\n",
       "       TotalOfSpecialRequests ReservationStatus ReservationStatusDate  \\\n",
       "134                         0          Canceled            2015-07-15   \n",
       "139                         0         Check-Out            2015-07-22   \n",
       "237                         0         Check-Out            2015-07-24   \n",
       "250                         0         Check-Out            2015-07-24   \n",
       "253                         0         Check-Out            2015-07-24   \n",
       "...                       ...               ...                   ...   \n",
       "79213                       0         Check-Out            2017-09-01   \n",
       "79214                       0         Check-Out            2017-09-01   \n",
       "79229                       3         Check-Out            2017-09-02   \n",
       "79237                       2         Check-Out            2017-09-02   \n",
       "79297                       0         Check-Out            2017-09-04   \n",
       "\n",
       "       changeroomtype  \n",
       "134              True  \n",
       "139              True  \n",
       "237              True  \n",
       "250              True  \n",
       "253              True  \n",
       "...               ...  \n",
       "79213            True  \n",
       "79214            True  \n",
       "79229            True  \n",
       "79237            True  \n",
       "79297            True  \n",
       "\n",
       "[7192 rows x 31 columns]"
      ]
     },
     "execution_count": 167,
     "metadata": {},
     "output_type": "execute_result"
    }
   ],
   "source": [
    "data[data['changeroomtype'] == True]"
   ]
  },
  {
   "cell_type": "code",
   "execution_count": 168,
   "metadata": {},
   "outputs": [
    {
     "data": {
      "text/plain": [
       "IsCanceled                     1.000000\n",
       "LeadTime                       0.309242\n",
       "TotalOfSpecialRequests         0.293889\n",
       "changeroomtype                 0.229972\n",
       "PreviousCancellations          0.166643\n",
       "BookingChanges                 0.149500\n",
       "RequiredCarParkingSpaces       0.133096\n",
       "IsRepeatedGuest                0.065840\n",
       "DaysInWaitingList              0.060965\n",
       "PreviousBookingsNotCanceled    0.053134\n",
       "Adults                         0.053054\n",
       "StaysInWeekNights              0.048704\n",
       "Babies                         0.030186\n",
       "Children                       0.027089\n",
       "ADR                            0.011965\n",
       "StaysInWeekendNights           0.007343\n",
       "ArrivalDateDayOfMonth          0.004331\n",
       "ArrivalDateYear                0.003004\n",
       "ArrivalDateWeekNumber          0.001580\n",
       "Name: IsCanceled, dtype: float64"
      ]
     },
     "execution_count": 168,
     "metadata": {},
     "output_type": "execute_result"
    }
   ],
   "source": [
    "data.corr().abs()['IsCanceled'].sort_values(ascending=False).head(30)"
   ]
  },
  {
   "cell_type": "code",
   "execution_count": 169,
   "metadata": {},
   "outputs": [
    {
     "data": {
      "image/png": "[encoded data removed]",
      "text/plain": [
       "<Figure size 432x288 with 1 Axes>"
      ]
     },
     "metadata": {
      "needs_background": "light"
     },
     "output_type": "display_data"
    }
   ],
   "source": [
    "sns.countplot('changeroomtype', data=data)\n",
    "plt.title('Room Type')\n",
    "plt.yscale(\"log\")"
   ]
  },
  {
   "cell_type": "markdown",
   "metadata": {},
   "source": [
    "Create a variable with the arrival date"
   ]
  },
  {
   "cell_type": "code",
   "execution_count": 170,
   "metadata": {},
   "outputs": [],
   "source": [
    "data['ArrivalDate'] = data['ArrivalDateDayOfMonth'].astype(str)+'/'+data['ArrivalDateMonth']+'/'+data['ArrivalDateYear'].astype(str)"
   ]
  },
  {
   "cell_type": "code",
   "execution_count": 171,
   "metadata": {},
   "outputs": [],
   "source": [
    "data['ArrivalDate'] = pd.to_datetime(data['ArrivalDate'])"
   ]
  },
  {
   "cell_type": "code",
   "execution_count": 172,
   "metadata": {
    "scrolled": true
   },
   "outputs": [
    {
     "data": {
      "text/plain": [
       "0       2015-07-01\n",
       "1       2015-07-01\n",
       "2       2015-07-01\n",
       "3       2015-07-01\n",
       "4       2015-07-02\n",
       "           ...    \n",
       "79325   2017-08-30\n",
       "79326   2017-08-31\n",
       "79327   2017-08-31\n",
       "79328   2017-08-31\n",
       "79329   2017-08-29\n",
       "Name: ArrivalDate, Length: 79330, dtype: datetime64[ns]"
      ]
     },
     "execution_count": 172,
     "metadata": {},
     "output_type": "execute_result"
    }
   ],
   "source": [
    "data['ArrivalDate']"
   ]
  },
  {
   "cell_type": "code",
   "execution_count": 173,
   "metadata": {},
   "outputs": [
    {
     "data": {
      "text/html": [
       "<div>\n",
       "<style scoped>\n",
       "    .dataframe tbody tr th:only-of-type {\n",
       "        vertical-align: middle;\n",
       "    }\n",
       "\n",
       "    .dataframe tbody tr th {\n",
       "        vertical-align: top;\n",
       "    }\n",
       "\n",
       "    .dataframe thead th {\n",
       "        text-align: right;\n",
       "    }\n",
       "</style>\n",
       "<table border=\"1\" class=\"dataframe\">\n",
       "  <thead>\n",
       "    <tr style=\"text-align: right;\">\n",
       "      <th></th>\n",
       "      <th>ArrivalDate</th>\n",
       "      <th>foo</th>\n",
       "    </tr>\n",
       "  </thead>\n",
       "  <tbody>\n",
       "    <tr>\n",
       "      <th>0</th>\n",
       "      <td>2015-07-01</td>\n",
       "      <td>1</td>\n",
       "    </tr>\n",
       "    <tr>\n",
       "      <th>1</th>\n",
       "      <td>2015-07-01</td>\n",
       "      <td>1</td>\n",
       "    </tr>\n",
       "    <tr>\n",
       "      <th>2</th>\n",
       "      <td>2015-07-01</td>\n",
       "      <td>1</td>\n",
       "    </tr>\n",
       "    <tr>\n",
       "      <th>3</th>\n",
       "      <td>2015-07-01</td>\n",
       "      <td>1</td>\n",
       "    </tr>\n",
       "    <tr>\n",
       "      <th>4</th>\n",
       "      <td>2015-07-02</td>\n",
       "      <td>1</td>\n",
       "    </tr>\n",
       "    <tr>\n",
       "      <th>...</th>\n",
       "      <td>...</td>\n",
       "      <td>...</td>\n",
       "    </tr>\n",
       "    <tr>\n",
       "      <th>79325</th>\n",
       "      <td>2017-08-30</td>\n",
       "      <td>1</td>\n",
       "    </tr>\n",
       "    <tr>\n",
       "      <th>79326</th>\n",
       "      <td>2017-08-31</td>\n",
       "      <td>1</td>\n",
       "    </tr>\n",
       "    <tr>\n",
       "      <th>79327</th>\n",
       "      <td>2017-08-31</td>\n",
       "      <td>1</td>\n",
       "    </tr>\n",
       "    <tr>\n",
       "      <th>79328</th>\n",
       "      <td>2017-08-31</td>\n",
       "      <td>1</td>\n",
       "    </tr>\n",
       "    <tr>\n",
       "      <th>79329</th>\n",
       "      <td>2017-08-29</td>\n",
       "      <td>1</td>\n",
       "    </tr>\n",
       "  </tbody>\n",
       "</table>\n",
       "<p>79330 rows × 2 columns</p>\n",
       "</div>"
      ],
      "text/plain": [
       "      ArrivalDate foo\n",
       "0      2015-07-01   1\n",
       "1      2015-07-01   1\n",
       "2      2015-07-01   1\n",
       "3      2015-07-01   1\n",
       "4      2015-07-02   1\n",
       "...           ...  ..\n",
       "79325  2017-08-30   1\n",
       "79326  2017-08-31   1\n",
       "79327  2017-08-31   1\n",
       "79328  2017-08-31   1\n",
       "79329  2017-08-29   1\n",
       "\n",
       "[79330 rows x 2 columns]"
      ]
     },
     "execution_count": 173,
     "metadata": {},
     "output_type": "execute_result"
    }
   ],
   "source": [
    "events = data[['ArrivalDate']]\n",
    "events['foo'] = events.apply(lambda _: '1', axis=1)\n",
    "events"
   ]
  },
  {
   "cell_type": "code",
   "execution_count": 174,
   "metadata": {
    "scrolled": true
   },
   "outputs": [
    {
     "data": {
      "text/html": [
       "<div>\n",
       "<style scoped>\n",
       "    .dataframe tbody tr th:only-of-type {\n",
       "        vertical-align: middle;\n",
       "    }\n",
       "\n",
       "    .dataframe tbody tr th {\n",
       "        vertical-align: top;\n",
       "    }\n",
       "\n",
       "    .dataframe thead th {\n",
       "        text-align: right;\n",
       "    }\n",
       "</style>\n",
       "<table border=\"1\" class=\"dataframe\">\n",
       "  <thead>\n",
       "    <tr style=\"text-align: right;\">\n",
       "      <th></th>\n",
       "      <th>foo</th>\n",
       "    </tr>\n",
       "    <tr>\n",
       "      <th>ArrivalDate</th>\n",
       "      <th></th>\n",
       "    </tr>\n",
       "  </thead>\n",
       "  <tbody>\n",
       "    <tr>\n",
       "      <th>2015-07-01</th>\n",
       "      <td>79</td>\n",
       "    </tr>\n",
       "    <tr>\n",
       "      <th>2015-07-02</th>\n",
       "      <td>49</td>\n",
       "    </tr>\n",
       "    <tr>\n",
       "      <th>2015-07-03</th>\n",
       "      <td>16</td>\n",
       "    </tr>\n",
       "    <tr>\n",
       "      <th>2015-07-04</th>\n",
       "      <td>38</td>\n",
       "    </tr>\n",
       "    <tr>\n",
       "      <th>2015-07-05</th>\n",
       "      <td>8</td>\n",
       "    </tr>\n",
       "    <tr>\n",
       "      <th>...</th>\n",
       "      <td>...</td>\n",
       "    </tr>\n",
       "    <tr>\n",
       "      <th>2017-08-27</th>\n",
       "      <td>107</td>\n",
       "    </tr>\n",
       "    <tr>\n",
       "      <th>2017-08-28</th>\n",
       "      <td>133</td>\n",
       "    </tr>\n",
       "    <tr>\n",
       "      <th>2017-08-29</th>\n",
       "      <td>90</td>\n",
       "    </tr>\n",
       "    <tr>\n",
       "      <th>2017-08-30</th>\n",
       "      <td>47</td>\n",
       "    </tr>\n",
       "    <tr>\n",
       "      <th>2017-08-31</th>\n",
       "      <td>79</td>\n",
       "    </tr>\n",
       "  </tbody>\n",
       "</table>\n",
       "<p>793 rows × 1 columns</p>\n",
       "</div>"
      ],
      "text/plain": [
       "             foo\n",
       "ArrivalDate     \n",
       "2015-07-01    79\n",
       "2015-07-02    49\n",
       "2015-07-03    16\n",
       "2015-07-04    38\n",
       "2015-07-05     8\n",
       "...          ...\n",
       "2017-08-27   107\n",
       "2017-08-28   133\n",
       "2017-08-29    90\n",
       "2017-08-30    47\n",
       "2017-08-31    79\n",
       "\n",
       "[793 rows x 1 columns]"
      ]
     },
     "execution_count": 174,
     "metadata": {},
     "output_type": "execute_result"
    }
   ],
   "source": [
    "a = events.groupby(['ArrivalDate']).count()\n",
    "a"
   ]
  },
  {
   "cell_type": "markdown",
   "metadata": {},
   "source": [
    "### Split the metric variables from the non metric one"
   ]
  },
  {
   "cell_type": "code",
   "execution_count": 175,
   "metadata": {},
   "outputs": [
    {
     "data": {
      "text/plain": [
       "False"
      ]
     },
     "execution_count": 175,
     "metadata": {},
     "output_type": "execute_result"
    }
   ],
   "source": [
    "# Splitting feature into metric and non metric\n",
    "non_metric_features = ['ArrivalDate','IsCanceled','ArrivalDateYear','ArrivalDateMonth','ArrivalDateWeekNumber','ArrivalDateDayOfMonth','Meal','MarketSegment','DistributionChannel','IsRepeatedGuest','ReservedRoomType','AssignedRoomType','changeroomtype','DepositType','Company','Agent','CustomerType ','RequiredCarParkingSpaces','ArrivalDate','ReservationStatus','ReservationStatusDate']\n",
    "metric_features = ['LeadTime','StaysInWeekendNights','StaysInWeekNights','Adults','Children','Babies','PreviousCancellations','PreviousBookingsNotCanceled','BookingChanges','DaysInWaitingList','ADR','TotalOfSpecialRequests']\n",
    "# Checking that no variable is left behind (Só dá true depois de correr a feature Engeneering)\n",
    "len(metric_features) + len(non_metric_features) == len(data.columns)"
   ]
  },
  {
   "cell_type": "code",
   "execution_count": 176,
   "metadata": {
    "scrolled": true
   },
   "outputs": [
    {
     "name": "stdout",
     "output_type": "stream",
     "text": [
      "<class 'pandas.core.frame.DataFrame'>\n",
      "RangeIndex: 79330 entries, 0 to 79329\n",
      "Data columns (total 12 columns):\n",
      " #   Column                       Non-Null Count  Dtype  \n",
      "---  ------                       --------------  -----  \n",
      " 0   LeadTime                     79330 non-null  int64  \n",
      " 1   StaysInWeekendNights         79330 non-null  int64  \n",
      " 2   StaysInWeekNights            79330 non-null  int64  \n",
      " 3   Adults                       79330 non-null  int64  \n",
      " 4   Children                     79330 non-null  float64\n",
      " 5   Babies                       79330 non-null  int64  \n",
      " 6   PreviousCancellations        79330 non-null  int64  \n",
      " 7   PreviousBookingsNotCanceled  79330 non-null  int64  \n",
      " 8   BookingChanges               79330 non-null  int64  \n",
      " 9   DaysInWaitingList            79330 non-null  int64  \n",
      " 10  ADR                          79330 non-null  float64\n",
      " 11  TotalOfSpecialRequests       79330 non-null  int64  \n",
      "dtypes: float64(2), int64(10)\n",
      "memory usage: 7.3 MB\n"
     ]
    }
   ],
   "source": [
    "data[metric_features].info()"
   ]
  },
  {
   "cell_type": "markdown",
   "metadata": {},
   "source": [
    "## One Hot Enconding "
   ]
  },
  {
   "cell_type": "code",
   "execution_count": 177,
   "metadata": {},
   "outputs": [],
   "source": [
    "data_ohc = data.copy()"
   ]
  },
  {
   "cell_type": "code",
   "execution_count": 178,
   "metadata": {},
   "outputs": [],
   "source": [
    "##Non metric features excluding the target variable, the variable created with the date of the reservation completed, the ArrivalDateDayOfMonth, the ArrivalDate and the ReservationStatusDate\n",
    "non_metric_features = ['ArrivalDateYear','ArrivalDateMonth','ArrivalDateWeekNumber','Meal','MarketSegment','DistributionChannel','IsRepeatedGuest','ReservedRoomType','AssignedRoomType','changeroomtype','DepositType','Company','Agent','CustomerType','RequiredCarParkingSpaces','ReservationStatus']"
   ]
  },
  {
   "cell_type": "code",
   "execution_count": 179,
   "metadata": {},
   "outputs": [
    {
     "data": {
      "text/html": [
       "<div>\n",
       "<style scoped>\n",
       "    .dataframe tbody tr th:only-of-type {\n",
       "        vertical-align: middle;\n",
       "    }\n",
       "\n",
       "    .dataframe tbody tr th {\n",
       "        vertical-align: top;\n",
       "    }\n",
       "\n",
       "    .dataframe thead th {\n",
       "        text-align: right;\n",
       "    }\n",
       "</style>\n",
       "<table border=\"1\" class=\"dataframe\">\n",
       "  <thead>\n",
       "    <tr style=\"text-align: right;\">\n",
       "      <th></th>\n",
       "      <th>x0_2016</th>\n",
       "      <th>x0_2017</th>\n",
       "      <th>x1_August</th>\n",
       "      <th>x1_December</th>\n",
       "      <th>x1_February</th>\n",
       "      <th>x1_January</th>\n",
       "      <th>x1_July</th>\n",
       "      <th>x1_June</th>\n",
       "      <th>x1_March</th>\n",
       "      <th>x1_May</th>\n",
       "      <th>...</th>\n",
       "      <th>x12_        509</th>\n",
       "      <th>x12_       NULL</th>\n",
       "      <th>x13_Group</th>\n",
       "      <th>x13_Transient</th>\n",
       "      <th>x13_Transient-Party</th>\n",
       "      <th>x14_1</th>\n",
       "      <th>x14_2</th>\n",
       "      <th>x14_3</th>\n",
       "      <th>x15_Check-Out</th>\n",
       "      <th>x15_No-Show</th>\n",
       "    </tr>\n",
       "  </thead>\n",
       "  <tbody>\n",
       "    <tr>\n",
       "      <th>0</th>\n",
       "      <td>0.0</td>\n",
       "      <td>0.0</td>\n",
       "      <td>0.0</td>\n",
       "      <td>0.0</td>\n",
       "      <td>0.0</td>\n",
       "      <td>0.0</td>\n",
       "      <td>1.0</td>\n",
       "      <td>0.0</td>\n",
       "      <td>0.0</td>\n",
       "      <td>0.0</td>\n",
       "      <td>...</td>\n",
       "      <td>0.0</td>\n",
       "      <td>0.0</td>\n",
       "      <td>0.0</td>\n",
       "      <td>1.0</td>\n",
       "      <td>0.0</td>\n",
       "      <td>0.0</td>\n",
       "      <td>0.0</td>\n",
       "      <td>0.0</td>\n",
       "      <td>1.0</td>\n",
       "      <td>0.0</td>\n",
       "    </tr>\n",
       "    <tr>\n",
       "      <th>1</th>\n",
       "      <td>0.0</td>\n",
       "      <td>0.0</td>\n",
       "      <td>0.0</td>\n",
       "      <td>0.0</td>\n",
       "      <td>0.0</td>\n",
       "      <td>0.0</td>\n",
       "      <td>1.0</td>\n",
       "      <td>0.0</td>\n",
       "      <td>0.0</td>\n",
       "      <td>0.0</td>\n",
       "      <td>...</td>\n",
       "      <td>0.0</td>\n",
       "      <td>0.0</td>\n",
       "      <td>0.0</td>\n",
       "      <td>1.0</td>\n",
       "      <td>0.0</td>\n",
       "      <td>0.0</td>\n",
       "      <td>0.0</td>\n",
       "      <td>0.0</td>\n",
       "      <td>0.0</td>\n",
       "      <td>0.0</td>\n",
       "    </tr>\n",
       "    <tr>\n",
       "      <th>2</th>\n",
       "      <td>0.0</td>\n",
       "      <td>0.0</td>\n",
       "      <td>0.0</td>\n",
       "      <td>0.0</td>\n",
       "      <td>0.0</td>\n",
       "      <td>0.0</td>\n",
       "      <td>1.0</td>\n",
       "      <td>0.0</td>\n",
       "      <td>0.0</td>\n",
       "      <td>0.0</td>\n",
       "      <td>...</td>\n",
       "      <td>0.0</td>\n",
       "      <td>0.0</td>\n",
       "      <td>0.0</td>\n",
       "      <td>1.0</td>\n",
       "      <td>0.0</td>\n",
       "      <td>0.0</td>\n",
       "      <td>0.0</td>\n",
       "      <td>0.0</td>\n",
       "      <td>0.0</td>\n",
       "      <td>0.0</td>\n",
       "    </tr>\n",
       "  </tbody>\n",
       "</table>\n",
       "<p>3 rows × 536 columns</p>\n",
       "</div>"
      ],
      "text/plain": [
       "   x0_2016  x0_2017  x1_August  x1_December  x1_February  x1_January  x1_July  \\\n",
       "0      0.0      0.0        0.0          0.0          0.0         0.0      1.0   \n",
       "1      0.0      0.0        0.0          0.0          0.0         0.0      1.0   \n",
       "2      0.0      0.0        0.0          0.0          0.0         0.0      1.0   \n",
       "\n",
       "   x1_June  x1_March  x1_May  ...  x12_        509  x12_       NULL  \\\n",
       "0      0.0       0.0     0.0  ...              0.0              0.0   \n",
       "1      0.0       0.0     0.0  ...              0.0              0.0   \n",
       "2      0.0       0.0     0.0  ...              0.0              0.0   \n",
       "\n",
       "   x13_Group  x13_Transient  x13_Transient-Party  x14_1  x14_2  x14_3  \\\n",
       "0        0.0            1.0                  0.0    0.0    0.0    0.0   \n",
       "1        0.0            1.0                  0.0    0.0    0.0    0.0   \n",
       "2        0.0            1.0                  0.0    0.0    0.0    0.0   \n",
       "\n",
       "   x15_Check-Out  x15_No-Show  \n",
       "0            1.0          0.0  \n",
       "1            0.0          0.0  \n",
       "2            0.0          0.0  \n",
       "\n",
       "[3 rows x 536 columns]"
      ]
     },
     "execution_count": 179,
     "metadata": {},
     "output_type": "execute_result"
    }
   ],
   "source": [
    "# Use OneHotEncoder to encode the categorical features. Get feature names and create a DataFrame \n",
    "# with the one-hot encoded categorical features (pass feature names)\n",
    "ohc = OneHotEncoder(sparse=False, drop=\"first\")\n",
    "ohc_feat = ohc.fit_transform(data_ohc[non_metric_features])\n",
    "ohc_feat_names = ohc.get_feature_names()\n",
    "ohc_df = pd.DataFrame(ohc_feat, index=data_ohc.index, columns=ohc_feat_names)  # Why the index=df_ohc.index?\n",
    "ohc_df.head(3)"
   ]
  },
  {
   "cell_type": "code",
   "execution_count": 180,
   "metadata": {
    "scrolled": true
   },
   "outputs": [
    {
     "data": {
      "text/html": [
       "<div>\n",
       "<style scoped>\n",
       "    .dataframe tbody tr th:only-of-type {\n",
       "        vertical-align: middle;\n",
       "    }\n",
       "\n",
       "    .dataframe tbody tr th {\n",
       "        vertical-align: top;\n",
       "    }\n",
       "\n",
       "    .dataframe thead th {\n",
       "        text-align: right;\n",
       "    }\n",
       "</style>\n",
       "<table border=\"1\" class=\"dataframe\">\n",
       "  <thead>\n",
       "    <tr style=\"text-align: right;\">\n",
       "      <th></th>\n",
       "      <th>IsCanceled</th>\n",
       "      <th>LeadTime</th>\n",
       "      <th>ArrivalDateDayOfMonth</th>\n",
       "      <th>StaysInWeekendNights</th>\n",
       "      <th>StaysInWeekNights</th>\n",
       "      <th>Adults</th>\n",
       "      <th>Children</th>\n",
       "      <th>Babies</th>\n",
       "      <th>PreviousCancellations</th>\n",
       "      <th>PreviousBookingsNotCanceled</th>\n",
       "      <th>...</th>\n",
       "      <th>x12_        509</th>\n",
       "      <th>x12_       NULL</th>\n",
       "      <th>x13_Group</th>\n",
       "      <th>x13_Transient</th>\n",
       "      <th>x13_Transient-Party</th>\n",
       "      <th>x14_1</th>\n",
       "      <th>x14_2</th>\n",
       "      <th>x14_3</th>\n",
       "      <th>x15_Check-Out</th>\n",
       "      <th>x15_No-Show</th>\n",
       "    </tr>\n",
       "  </thead>\n",
       "  <tbody>\n",
       "    <tr>\n",
       "      <th>0</th>\n",
       "      <td>0</td>\n",
       "      <td>6</td>\n",
       "      <td>1</td>\n",
       "      <td>0</td>\n",
       "      <td>2</td>\n",
       "      <td>1</td>\n",
       "      <td>0.0</td>\n",
       "      <td>0</td>\n",
       "      <td>0</td>\n",
       "      <td>0</td>\n",
       "      <td>...</td>\n",
       "      <td>0.0</td>\n",
       "      <td>0.0</td>\n",
       "      <td>0.0</td>\n",
       "      <td>1.0</td>\n",
       "      <td>0.0</td>\n",
       "      <td>0.0</td>\n",
       "      <td>0.0</td>\n",
       "      <td>0.0</td>\n",
       "      <td>1.0</td>\n",
       "      <td>0.0</td>\n",
       "    </tr>\n",
       "    <tr>\n",
       "      <th>1</th>\n",
       "      <td>1</td>\n",
       "      <td>88</td>\n",
       "      <td>1</td>\n",
       "      <td>0</td>\n",
       "      <td>4</td>\n",
       "      <td>2</td>\n",
       "      <td>0.0</td>\n",
       "      <td>0</td>\n",
       "      <td>0</td>\n",
       "      <td>0</td>\n",
       "      <td>...</td>\n",
       "      <td>0.0</td>\n",
       "      <td>0.0</td>\n",
       "      <td>0.0</td>\n",
       "      <td>1.0</td>\n",
       "      <td>0.0</td>\n",
       "      <td>0.0</td>\n",
       "      <td>0.0</td>\n",
       "      <td>0.0</td>\n",
       "      <td>0.0</td>\n",
       "      <td>0.0</td>\n",
       "    </tr>\n",
       "    <tr>\n",
       "      <th>2</th>\n",
       "      <td>1</td>\n",
       "      <td>65</td>\n",
       "      <td>1</td>\n",
       "      <td>0</td>\n",
       "      <td>4</td>\n",
       "      <td>1</td>\n",
       "      <td>0.0</td>\n",
       "      <td>0</td>\n",
       "      <td>0</td>\n",
       "      <td>0</td>\n",
       "      <td>...</td>\n",
       "      <td>0.0</td>\n",
       "      <td>0.0</td>\n",
       "      <td>0.0</td>\n",
       "      <td>1.0</td>\n",
       "      <td>0.0</td>\n",
       "      <td>0.0</td>\n",
       "      <td>0.0</td>\n",
       "      <td>0.0</td>\n",
       "      <td>0.0</td>\n",
       "      <td>0.0</td>\n",
       "    </tr>\n",
       "  </tbody>\n",
       "</table>\n",
       "<p>3 rows × 552 columns</p>\n",
       "</div>"
      ],
      "text/plain": [
       "   IsCanceled  LeadTime  ArrivalDateDayOfMonth  StaysInWeekendNights  \\\n",
       "0           0         6                      1                     0   \n",
       "1           1        88                      1                     0   \n",
       "2           1        65                      1                     0   \n",
       "\n",
       "   StaysInWeekNights  Adults  Children  Babies  PreviousCancellations  \\\n",
       "0                  2       1       0.0       0                      0   \n",
       "1                  4       2       0.0       0                      0   \n",
       "2                  4       1       0.0       0                      0   \n",
       "\n",
       "   PreviousBookingsNotCanceled  ...  x12_        509  x12_       NULL  \\\n",
       "0                            0  ...              0.0              0.0   \n",
       "1                            0  ...              0.0              0.0   \n",
       "2                            0  ...              0.0              0.0   \n",
       "\n",
       "   x13_Group  x13_Transient x13_Transient-Party x14_1  x14_2  x14_3  \\\n",
       "0        0.0            1.0                 0.0   0.0    0.0    0.0   \n",
       "1        0.0            1.0                 0.0   0.0    0.0    0.0   \n",
       "2        0.0            1.0                 0.0   0.0    0.0    0.0   \n",
       "\n",
       "   x15_Check-Out  x15_No-Show  \n",
       "0            1.0          0.0  \n",
       "1            0.0          0.0  \n",
       "2            0.0          0.0  \n",
       "\n",
       "[3 rows x 552 columns]"
      ]
     },
     "execution_count": 180,
     "metadata": {},
     "output_type": "execute_result"
    }
   ],
   "source": [
    "# Reassigning data to contain ohc variables\n",
    "data_ohc = pd.concat([data_ohc.drop(columns=non_metric_features), ohc_df], axis=1)\n",
    "data_ohc.head(3)"
   ]
  },
  {
   "cell_type": "code",
   "execution_count": null,
   "metadata": {},
   "outputs": [],
   "source": []
  },
  {
   "cell_type": "markdown",
   "metadata": {},
   "source": [
    "##  2. Feature Selection\n",
    "In feature selection several different models contribute with different perspectives, this said, our methodology regarding feature selection was to create an artificial collaboration to get the best from each method. \n",
    "\n",
    "5 different methods were used, namely correlation with our target variable, rfe, lasso CV, Ridge Regression, and a Decision Tree feature selection for both gini and entropy criterions. We used the best 30 features for all methods, except for the Ridge regression in which we used only the ones that were different than 0. Then counted the times a feature appeared for each method and we applied a threshold. This threshold allowed us to have a good feature selection and to easily manipulate the amount of features we had in our model by just lowering the threshold from minimum 2 methods or to minimum 3 methods required to appear in the final variables for the classification solution.  \n",
    "- Using Correlation w/ Income\n",
    "- Using rfe\n",
    "- Using LassoCV\n",
    "- Using Ridge CV\n",
    "- Using DecisionTreeClassifier"
   ]
  },
  {
   "cell_type": "code",
   "execution_count": 207,
   "metadata": {},
   "outputs": [],
   "source": [
    "# Splitting feature names into groups\n",
    "i_non_metric_features = data_ohc.select_dtypes(include=['object','datetime64[ns]']).columns\n",
    "i_metric_features = data_ohc.select_dtypes(exclude=['object','datetime64[ns]']).columns"
   ]
  },
  {
   "cell_type": "code",
   "execution_count": 208,
   "metadata": {},
   "outputs": [
    {
     "data": {
      "text/plain": [
       "Index(['IsCanceled', 'LeadTime', 'ArrivalDateDayOfMonth',\n",
       "       'StaysInWeekendNights', 'StaysInWeekNights', 'Adults', 'Children',\n",
       "       'Babies', 'PreviousCancellations', 'PreviousBookingsNotCanceled',\n",
       "       ...\n",
       "       'x12_        509', 'x12_       NULL', 'x13_Group', 'x13_Transient',\n",
       "       'x13_Transient-Party', 'x14_1', 'x14_2', 'x14_3', 'x15_Check-Out',\n",
       "       'x15_No-Show'],\n",
       "      dtype='object', length=550)"
      ]
     },
     "execution_count": 208,
     "metadata": {},
     "output_type": "execute_result"
    }
   ],
   "source": [
    "i_metric_features"
   ]
  },
  {
   "cell_type": "code",
   "execution_count": 210,
   "metadata": {},
   "outputs": [
    {
     "data": {
      "text/plain": [
       "int64      10\n",
       "float64     2\n",
       "dtype: int64"
      ]
     },
     "execution_count": 210,
     "metadata": {},
     "output_type": "execute_result"
    }
   ],
   "source": [
    "data_ohc[metric_features].dtypes.value_counts()"
   ]
  },
  {
   "cell_type": "code",
   "execution_count": 211,
   "metadata": {},
   "outputs": [],
   "source": [
    "data = data_ohc[i_metric_features].copy().drop(['IsCanceled'], axis=1)\n",
    "target = data_ohc['IsCanceled']"
   ]
  },
  {
   "cell_type": "code",
   "execution_count": 212,
   "metadata": {},
   "outputs": [],
   "source": [
    "top30 = list()"
   ]
  },
  {
   "cell_type": "markdown",
   "metadata": {},
   "source": [
    "##### Using Correlation w/ IsCanceled"
   ]
  },
  {
   "cell_type": "code",
   "execution_count": 138,
   "metadata": {},
   "outputs": [
    {
     "data": {
      "text/plain": [
       "IsCanceled                1.000000\n",
       "x15_Check-Out             1.000000\n",
       "x10_Non Refund            0.518325\n",
       "LeadTime                  0.309242\n",
       "TotalOfSpecialRequests    0.293889\n",
       "x4_Groups                 0.254432\n",
       "x9_True                   0.229972\n",
       "x5_TA/TO                  0.172369\n",
       "PreviousCancellations     0.166643\n",
       "BookingChanges            0.149500\n",
       "x13_Transient-Party       0.146155\n",
       "x5_Direct                 0.146034\n",
       "x4_Direct                 0.142699\n",
       "x13_Transient             0.136191\n",
       "x14_1                     0.133304\n",
       "x8_D                      0.129250\n",
       "x15_No-Show               0.127725\n",
       "x12_          7           0.124162\n",
       "x12_         14           0.105910\n",
       "x12_         28           0.104326\n",
       "x11_       NULL           0.091696\n",
       "x4_Online TA              0.085782\n",
       "x4_Corporate              0.081256\n",
       "x12_         19           0.075057\n",
       "x11_         40           0.073516\n",
       "x12_         29           0.072338\n",
       "x12_       NULL           0.066064\n",
       "x12_        236           0.066044\n",
       "x6_1                      0.065840\n",
       "x12_         58           0.061188\n",
       "Name: IsCanceled, dtype: float64"
      ]
     },
     "execution_count": 138,
     "metadata": {},
     "output_type": "execute_result"
    }
   ],
   "source": [
    "data_ohc.corr().abs()['IsCanceled'].sort_values(ascending=False).head(30)"
   ]
  },
  {
   "cell_type": "code",
   "execution_count": 215,
   "metadata": {},
   "outputs": [],
   "source": [
    "top30.append(data_ohc.corr().abs()['IsCanceled'].sort_values(ascending=False).head(30))"
   ]
  },
  {
   "cell_type": "markdown",
   "metadata": {},
   "source": [
    "##### Using rfe"
   ]
  },
  {
   "cell_type": "code",
   "execution_count": 213,
   "metadata": {},
   "outputs": [
    {
     "data": {
      "text/plain": [
       "x0_2017                True\n",
       "x4_Undefined           True\n",
       "x7_P                   True\n",
       "x8_P                   True\n",
       "x11_         11        True\n",
       "x11_         35        True\n",
       "x11_         49        True\n",
       "x11_        115        True\n",
       "x11_        135        True\n",
       "x11_        229        True\n",
       "x11_        230        True\n",
       "x11_        253        True\n",
       "x11_        259        True\n",
       "x11_        264        True\n",
       "x11_        277        True\n",
       "x11_        360        True\n",
       "x11_        366        True\n",
       "x11_        466        True\n",
       "x11_        489        True\n",
       "x11_        494        True\n",
       "x12_         33        True\n",
       "x12_         57        True\n",
       "x12_         73        True\n",
       "x12_        106        True\n",
       "x12_        107        True\n",
       "x12_        242        True\n",
       "x12_        355        True\n",
       "x12_        476        True\n",
       "x14_3                  True\n",
       "x15_Check-Out          True\n",
       "dtype: bool"
      ]
     },
     "execution_count": 213,
     "metadata": {},
     "output_type": "execute_result"
    }
   ],
   "source": [
    "modelLR = LinearRegression()\n",
    "rfe = RFE(estimator = modelLR, n_features_to_select = 30)\n",
    "c = rfe.fit_transform(X = data, y = target)\n",
    "modelLR.fit(X = data, y = target)\n",
    "selected_features = pd.Series(rfe.support_, index = data.columns)\n",
    "selected_features[selected_features.values==True]"
   ]
  },
  {
   "cell_type": "code",
   "execution_count": 214,
   "metadata": {},
   "outputs": [],
   "source": [
    "top30.append(selected_features[selected_features.values==True].index)"
   ]
  },
  {
   "cell_type": "markdown",
   "metadata": {},
   "source": [
    "##### Using Lasso Regression"
   ]
  },
  {
   "cell_type": "code",
   "execution_count": 216,
   "metadata": {},
   "outputs": [
    {
     "data": {
      "text/plain": [
       "LassoCV()"
      ]
     },
     "execution_count": 216,
     "metadata": {},
     "output_type": "execute_result"
    }
   ],
   "source": [
    "reg = LassoCV()\n",
    "reg.fit(X = data,y = target)\n"
   ]
  },
  {
   "cell_type": "code",
   "execution_count": 217,
   "metadata": {},
   "outputs": [
    {
     "name": "stdout",
     "output_type": "stream",
     "text": [
      "Best alpha using built-in LassoCV: 0.016918\n",
      "Best score using built-in LassoCV: 0.994657\n",
      "Lasso picked 3 variables and eliminated the other 546 variables\n"
     ]
    }
   ],
   "source": [
    "print(\"Best alpha using built-in LassoCV: %f\" % reg.alpha_)\n",
    "print(\"Best score using built-in LassoCV: %f\" %reg.score(data,target))\n",
    "\n",
    "coef = pd.Series(reg.coef_, index = data.columns)\n",
    "print(\"Lasso picked \" + str(sum(coef != 0)) + \" variables and eliminated the other \" +  str(sum(coef == 0)) + \" variables\")"
   ]
  },
  {
   "cell_type": "code",
   "execution_count": 218,
   "metadata": {},
   "outputs": [],
   "source": [
    "top30.append(coef[coef.values!=0].index)"
   ]
  },
  {
   "cell_type": "markdown",
   "metadata": {},
   "source": [
    "##### Using Ridge Regression"
   ]
  },
  {
   "cell_type": "code",
   "execution_count": 219,
   "metadata": {},
   "outputs": [
    {
     "name": "stdout",
     "output_type": "stream",
     "text": [
      "The alpha atribute using RidgeCV: 0.100000\n",
      "The score using RidgeCV: 1.000000\n"
     ]
    },
    {
     "data": {
      "text/plain": [
       "x11_        321        0.000011\n",
       "x1_December            0.000010\n",
       "x1_November            0.000009\n",
       "x11_        452        0.000008\n",
       "x11_        277        0.000008\n",
       "x1_October             0.000008\n",
       "x12_        270        0.000008\n",
       "x11_        466        0.000008\n",
       "x11_        428        0.000007\n",
       "x1_September           0.000007\n",
       "x15_No-Show            0.000007\n",
       "x11_        253        0.000006\n",
       "x5_Undefined           0.000006\n",
       "x11_        316        0.000006\n",
       "x12_        403        0.000006\n",
       "x12_        276        0.000006\n",
       "x11_        350        0.000006\n",
       "x3_FB                  0.000006\n",
       "x1_August              0.000005\n",
       "x12_        341        0.000005\n",
       "x12_        107        0.000005\n",
       "x4_Undefined           0.000005\n",
       "x4_Groups              0.000005\n",
       "x4_Offline TA/TO       0.000005\n",
       "x11_         85        0.000005\n",
       "x11_        288        0.000004\n",
       "x10_Non Refund         0.000004\n",
       "x12_        355        0.000004\n",
       "x12_         57        0.000004\n",
       "x4_Online TA           0.000004\n",
       "dtype: float64"
      ]
     },
     "execution_count": 219,
     "metadata": {},
     "output_type": "execute_result"
    }
   ],
   "source": [
    "ridge = RidgeCV()\n",
    "ridge.fit(X = data, y = target)\n",
    "print('The alpha atribute using RidgeCV: %f' %ridge.alpha_)\n",
    "print('The score using RidgeCV: %f' %ridge.score(data,target))\n",
    "coef_ridge = pd.Series(ridge.coef_, index = data.columns)\n",
    "coef_ridge.sort_values(ascending=False).head(30)"
   ]
  },
  {
   "cell_type": "code",
   "execution_count": 220,
   "metadata": {},
   "outputs": [],
   "source": [
    "top30.append(coef_ridge.sort_values(ascending=False).head(30).index)"
   ]
  },
  {
   "cell_type": "markdown",
   "metadata": {},
   "source": [
    "##### Using DecisionTreeClassifier"
   ]
  },
  {
   "cell_type": "code",
   "execution_count": 221,
   "metadata": {
    "scrolled": true
   },
   "outputs": [],
   "source": [
    "gini_importance = DecisionTreeClassifier().fit(data, target).feature_importances_\n",
    "entropy_importance = DecisionTreeClassifier(criterion='entropy').fit(data, target).feature_importances_"
   ]
  },
  {
   "cell_type": "code",
   "execution_count": 222,
   "metadata": {},
   "outputs": [
    {
     "data": {
      "text/plain": [
       "<matplotlib.axes._subplots.AxesSubplot at 0x1d73da3c550>"
      ]
     },
     "execution_count": 222,
     "metadata": {},
     "output_type": "execute_result"
    },
    {
     "data": {
      "image/png": "[encoded data removed]",
      "text/plain": [
       "<Figure size 1080x576 with 1 Axes>"
      ]
     },
     "metadata": {
      "needs_background": "light"
     },
     "output_type": "display_data"
    }
   ],
   "source": [
    "zippy = pd.DataFrame(zip(gini_importance, entropy_importance), columns = ['gini','entropy'])\n",
    "zippy['col'] = data.columns\n",
    "tidy = zippy.melt(id_vars='col').rename(columns=str.title)\n",
    "tidy.sort_values(['Value'], ascending = False, inplace = True)\n",
    "\n",
    "plt.figure(figsize=(15,8))\n",
    "sns.barplot(y='Col', x='Value', hue='Variable', data=tidy.head(60))"
   ]
  },
  {
   "cell_type": "code",
   "execution_count": 223,
   "metadata": {},
   "outputs": [],
   "source": [
    "top30.append(tidy.sort_values(['Value'], ascending = False).head(60)['Col'].drop_duplicates().values)"
   ]
  },
  {
   "cell_type": "code",
   "execution_count": 224,
   "metadata": {},
   "outputs": [],
   "source": [
    "onlyDT = tidy.sort_values(['Value'], ascending = False).head(60)['Col'].values.tolist()"
   ]
  },
  {
   "cell_type": "code",
   "execution_count": 225,
   "metadata": {},
   "outputs": [
    {
     "data": {
      "text/plain": [
       "['x15_Check-Out',\n",
       " 'x15_Check-Out',\n",
       " 'x11_        207',\n",
       " 'PreviousBookingsNotCanceled',\n",
       " 'x0_2017',\n",
       " 'x0_2016',\n",
       " 'TotalOfSpecialRequests',\n",
       " 'ADR',\n",
       " 'DaysInWaitingList',\n",
       " 'BookingChanges',\n",
       " 'PreviousCancellations',\n",
       " 'x11_         84',\n",
       " 'Babies',\n",
       " 'Children',\n",
       " 'Adults',\n",
       " 'StaysInWeekNights',\n",
       " 'StaysInWeekendNights',\n",
       " 'x1_December',\n",
       " 'x1_August',\n",
       " 'x1_February',\n",
       " 'x2_8',\n",
       " 'x1_January',\n",
       " 'x1_July',\n",
       " 'x1_June',\n",
       " 'x1_March',\n",
       " 'x1_May',\n",
       " 'x1_November',\n",
       " 'x1_October',\n",
       " 'x1_September',\n",
       " 'x2_2',\n",
       " 'x2_3',\n",
       " 'x2_4',\n",
       " 'x2_5',\n",
       " 'x2_6',\n",
       " 'x2_7',\n",
       " 'x2_9',\n",
       " 'x2_10',\n",
       " 'x2_11',\n",
       " 'x2_26',\n",
       " 'x2_25',\n",
       " 'x2_24',\n",
       " 'x2_23',\n",
       " 'x2_22',\n",
       " 'x2_21',\n",
       " 'x2_20',\n",
       " 'x2_18',\n",
       " 'x11_         81',\n",
       " 'x2_17',\n",
       " 'x2_16',\n",
       " 'x2_15',\n",
       " 'x2_14',\n",
       " 'x2_13',\n",
       " 'x2_12',\n",
       " 'x2_27',\n",
       " 'x2_42',\n",
       " 'x2_28',\n",
       " 'x2_29',\n",
       " 'x2_30',\n",
       " 'x2_31',\n",
       " 'x2_32']"
      ]
     },
     "execution_count": 225,
     "metadata": {},
     "output_type": "execute_result"
    }
   ],
   "source": [
    "onlyDT"
   ]
  },
  {
   "cell_type": "markdown",
   "metadata": {},
   "source": [
    "##### Final Variables\n",
    "As the different methods gave different results we will use the fields that appear in more than 1 method\n",
    "\n"
   ]
  },
  {
   "cell_type": "code",
   "execution_count": 226,
   "metadata": {},
   "outputs": [],
   "source": [
    "series30 = pd.Series(top30) \n",
    "series30 = series30.explode().value_counts()\n",
    "onlyDT = tidy.sort_values(['Value'], ascending = False).head(60)['Col'].values.tolist()\n",
    "DT15 = tidy.sort_values(['Value'], ascending = False).head(30)['Col'].values.tolist()\n",
    "final_var1 = series30[series30.values>1].index\n",
    "final_var2 = series30[series30.values>2].index\n",
    "final_var3 = series30[series30.values>3].index"
   ]
  },
  {
   "cell_type": "code",
   "execution_count": 228,
   "metadata": {},
   "outputs": [
    {
     "data": {
      "image/png": "[encoded data removed]",
      "text/plain": [
       "<Figure size 432x288 with 1 Axes>"
      ]
     },
     "metadata": {
      "needs_background": "light"
     },
     "output_type": "display_data"
    }
   ],
   "source": [
    "sns.barplot(x='index',y=0,data=series30.reset_index().head(30))\n",
    "plt.xticks(rotation = 'vertical')\n",
    "plt.ylabel('Number of methods a feature appeared in')\n",
    "plt.xlabel('Features')\n",
    "plt.show()"
   ]
  },
  {
   "cell_type": "markdown",
   "metadata": {},
   "source": [
    "The previous graph illustrates the way our method works. If we were to set threshold in 3 we would get all the values above 3, i.e. x0_Wife, x2_Married, x6_professor, x5_Self-Employed (Company), x6_Management."
   ]
  },
  {
   "cell_type": "code",
   "execution_count": null,
   "metadata": {},
   "outputs": [],
   "source": []
  }
 ],
 "metadata": {
  "kernelspec": {
   "display_name": "Python 3",
   "language": "python",
   "name": "python3"
  },
  "language_info": {
   "codemirror_mode": {
    "name": "ipython",
    "version": 3
   },
   "file_extension": ".py",
   "mimetype": "text/x-python",
   "name": "python",
   "nbconvert_exporter": "python",
   "pygments_lexer": "ipython3",
   "version": "3.8.3"
  }
 },
 "nbformat": 4,
 "nbformat_minor": 4
}
